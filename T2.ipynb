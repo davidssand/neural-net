{
 "cells": [
  {
   "cell_type": "markdown",
   "id": "dying-plate",
   "metadata": {},
   "source": [
    "# Inteligência Artificial - Trabalho\n",
    "- Universidade Federal de Santa Catarina\n",
    "- Departamento de Automação e Sistemas\n",
    "- Prof. Eric Aislan Antonelo\n",
    "\n",
    "### Grupo\n",
    "-\n",
    "\n",
    "### Opção: 1\n",
    "\n",
    "#### 1. Implementação:\n",
    "- Crie as estruturas de dados para guardar os pesos que definem uma arquitetura\n",
    "de rede neural multi-camadas. Inicialize a rede neural aleatoriamente.\n",
    "- Implemente o algoritmo da retropropagação para o cálculo do gradiente, a\n",
    "derivada parcial da função de custo com relação aos pesos da rede.\n",
    "- Valide o algoritmo do cálculo do gradiente, realizando uma aproximação numérica\n",
    "do mesmo. Verifique se os cálculos batem um com o outro.\n",
    "- Dado o gradiente já calculado, implemente o método do descenso do gradiente\n",
    "para o treinamento da rede neural, ou seja, o processo de ajuste dos pesos.\n",
    "\n",
    "#### 2. Aplicação:\n",
    "- Use o código implementado para treinar uma rede neural para realizar a classificação de um padrão de duas dimensões de entrada. Os dados para treinamento\n",
    "estão disponíveis no arquivo\n",
    "classification2.txt.\n",
    "Para plotar a fronteira de decisão da rede treinada, poderá usar o código\n",
    "disponível no link\n",
    "https://colab.research.google.com/drive/1XTtZGgpAefbiWejTrEjsnWzS_\n",
    "XXYdzff?usp=sharing.\n",
    "- Relate resultados variando pelo menos duas vezes cada um dos hiperparâmetros: o número de camadas; o número de neurônios por camada; taxa de aprendizagem. Use métricas como taxa de classificação (porcentagem de predições\n",
    "corretas) no conjunto de validação (exemplos não usados no treinamento).\n",
    "- (opcional) Treine uma rede neural para classificar dígitos a partir de imagens\n",
    "como entrada para a rede. Use o arquivo\n",
    "classification3.mat.\n",
    "\n",
    "#### 3. Entregas:\n",
    "No relatório a ser entregue, descreva os experimentos e os resultados obtidos.\n",
    "Grave um video de até 3 minutos, onde você deve explicar o código implementado\n",
    "de uma forma geral, as dificuldades encontradas, e em especial:\n",
    "- a parte do código referente ao cálculo do gradiente\n",
    "- a parte do código referente ao gradient descent\n",
    "- o gráfico da fronteira de decisão\n",
    "Entregue o código, PDF do relatório e o arquivo de video pelo Moodle (zipado com\n",
    "ZIP ou tar.gz)."
   ]
  },
  {
   "cell_type": "code",
   "execution_count": 1,
   "id": "favorite-desire",
   "metadata": {},
   "outputs": [],
   "source": [
    "import pandas as pd\n",
    "import numpy as np\n",
    "import sys\n",
    "import logging\n",
    "from matplotlib import pyplot as plt\n",
    "\n",
    "logger = logging.getLogger()\n",
    "logger.setLevel(logging.INFO)\n",
    "formatter = logging.Formatter('%(message)s')\n",
    "\n",
    "stdout_handler = logging.StreamHandler(sys.stdout)\n",
    "stdout_handler.setFormatter(formatter)\n",
    "\n",
    "logger.addHandler(stdout_handler)"
   ]
  },
  {
   "cell_type": "markdown",
   "id": "freelance-taste",
   "metadata": {},
   "source": [
    "### Data source"
   ]
  },
  {
   "cell_type": "code",
   "execution_count": 2,
   "id": "consecutive-malta",
   "metadata": {},
   "outputs": [
    {
     "name": "stdout",
     "output_type": "stream",
     "text": [
      "<class 'pandas.core.frame.DataFrame'>\n",
      "RangeIndex: 118 entries, 0 to 117\n",
      "Data columns (total 3 columns):\n",
      " #   Column   Non-Null Count  Dtype  \n",
      "---  ------   --------------  -----  \n",
      " 0   column1  118 non-null    float64\n",
      " 1   column2  118 non-null    float64\n",
      " 2   label    118 non-null    int64  \n",
      "dtypes: float64(2), int64(1)\n",
      "memory usage: 2.9 KB\n",
      "\n",
      "Label Value counts: \n",
      "0    60\n",
      "1    58\n",
      "Name: label, dtype: int64\n"
     ]
    },
    {
     "data": {
      "text/html": [
       "<div>\n",
       "<style scoped>\n",
       "    .dataframe tbody tr th:only-of-type {\n",
       "        vertical-align: middle;\n",
       "    }\n",
       "\n",
       "    .dataframe tbody tr th {\n",
       "        vertical-align: top;\n",
       "    }\n",
       "\n",
       "    .dataframe thead th {\n",
       "        text-align: right;\n",
       "    }\n",
       "</style>\n",
       "<table border=\"1\" class=\"dataframe\">\n",
       "  <thead>\n",
       "    <tr style=\"text-align: right;\">\n",
       "      <th></th>\n",
       "      <th>column1</th>\n",
       "      <th>column2</th>\n",
       "      <th>label</th>\n",
       "    </tr>\n",
       "  </thead>\n",
       "  <tbody>\n",
       "    <tr>\n",
       "      <th>0</th>\n",
       "      <td>0.051267</td>\n",
       "      <td>0.69956</td>\n",
       "      <td>1</td>\n",
       "    </tr>\n",
       "    <tr>\n",
       "      <th>1</th>\n",
       "      <td>-0.092742</td>\n",
       "      <td>0.68494</td>\n",
       "      <td>1</td>\n",
       "    </tr>\n",
       "    <tr>\n",
       "      <th>2</th>\n",
       "      <td>-0.213710</td>\n",
       "      <td>0.69225</td>\n",
       "      <td>1</td>\n",
       "    </tr>\n",
       "    <tr>\n",
       "      <th>3</th>\n",
       "      <td>-0.375000</td>\n",
       "      <td>0.50219</td>\n",
       "      <td>1</td>\n",
       "    </tr>\n",
       "    <tr>\n",
       "      <th>4</th>\n",
       "      <td>-0.513250</td>\n",
       "      <td>0.46564</td>\n",
       "      <td>1</td>\n",
       "    </tr>\n",
       "  </tbody>\n",
       "</table>\n",
       "</div>"
      ],
      "text/plain": [
       "    column1  column2  label\n",
       "0  0.051267  0.69956      1\n",
       "1 -0.092742  0.68494      1\n",
       "2 -0.213710  0.69225      1\n",
       "3 -0.375000  0.50219      1\n",
       "4 -0.513250  0.46564      1"
      ]
     },
     "execution_count": 2,
     "metadata": {},
     "output_type": "execute_result"
    }
   ],
   "source": [
    "df = pd.read_csv('classification2.txt', header=None)\n",
    "df.columns = ['column1', 'column2', 'label']\n",
    "df.info()\n",
    "print(f'\\nLabel Value counts: \\n{df.label.value_counts()}')\n",
    "df.head()"
   ]
  },
  {
   "cell_type": "code",
   "execution_count": 3,
   "id": "certain-operation",
   "metadata": {},
   "outputs": [],
   "source": [
    "X = df.iloc[:, :-1].to_numpy()\n",
    "y = df.iloc[:, -1].to_numpy()"
   ]
  },
  {
   "cell_type": "markdown",
   "id": "specialized-forty",
   "metadata": {},
   "source": [
    "# TODO: Scale data"
   ]
  },
  {
   "cell_type": "markdown",
   "id": "racial-proof",
   "metadata": {},
   "source": [
    "### Neural net data structure"
   ]
  },
  {
   "cell_type": "code",
   "execution_count": 4,
   "id": "baking-measure",
   "metadata": {},
   "outputs": [],
   "source": [
    "class NeuralNetwork:\n",
    "    def __init__(self, x, y):\n",
    "        self.input      = x\n",
    "        self.weights1   = np.random.rand(self.input.shape[1],2) \n",
    "        self.weights2   = np.random.rand(2,1)                 \n",
    "        self.y          = y\n",
    "        self.output     = np.zeros(self.y.shape)\n",
    "        \n",
    "        print(self.weights1)\n",
    "        print(self.weights2)\n",
    "\n",
    "    def feedforward(self):\n",
    "        self.layer1 = sigmoid(np.dot(self.input, self.weights1))\n",
    "        self.output = sigmoid(np.dot(self.layer1, self.weights2))\n",
    "\n",
    "    def backprop(self):\n",
    "        # application of the chain rule to find derivative of the loss function with respect to weights2 and weights1\n",
    "        delta = 2*(self.y - self.output) * sigmoid_derivative(self.output)\n",
    "        d_weights2 = np.dot(self.layer1.T, delta)\n",
    "        d_weights1 = np.dot(self.input.T,  delta, self.weights2.T) * sigmoid_derivative(self.layer1)\n",
    "\n",
    "        # update the weights with the derivative (slope) of the loss function\n",
    "        self.weights1 += d_weights1\n",
    "        self.weights2 += d_weights2"
   ]
  },
  {
   "cell_type": "code",
   "execution_count": 51,
   "id": "textile-novel",
   "metadata": {},
   "outputs": [],
   "source": [
    "def relu(data):\n",
    "    return np.maximum(0, data)\n",
    "  \n",
    "def sigmoid(data):\n",
    "    return 1 / (1 + np.exp(-data)) \n",
    "\n",
    "def sigmoid_derivative(data):\n",
    "    return data * (1 - data)\n",
    "\n",
    "class Neuron():\n",
    "    def __init__(self, input_length):\n",
    "        # Include bias!\n",
    "        self.__weights = self.create_random_weights(input_length)\n",
    "        \n",
    "    def create_random_weights(self, input_length):\n",
    "        return np.random.randn(input_length)\n",
    "        \n",
    "    @property\n",
    "    def weights(self):\n",
    "        return self.__weights\n",
    "    \n",
    "    @weights.setter\n",
    "    def weights(self, new_value):\n",
    "        self.__weights = new_value\n",
    "    \n",
    "    def __repr__(self):\n",
    "        return f'Neuron {self.weights}'\n",
    "    \n",
    "class Layer():\n",
    "    def __init__(self, input_length, n_neurons):\n",
    "        self.input_length = input_length\n",
    "        self.n_neurons = n_neurons\n",
    "        self.create_neurons()\n",
    "        self.error_der = np.zeros((n_neurons, input_length))\n",
    "    \n",
    "    def create_neurons(self):\n",
    "        \"\"\"Creates neurons of layer\n",
    "        \"\"\"\n",
    "        self.neurons = list()\n",
    "        for i in range(self.n_neurons):\n",
    "            self.neurons.append(\n",
    "                Neuron(self.input_length)\n",
    "            )\n",
    "            \n",
    "    def __repr__(self):\n",
    "        return f'Layer \\n{self.weights_matrix}'\n",
    "    \n",
    "    @property\n",
    "    def weights_matrix(self):\n",
    "        \"\"\"Represents layer's weights as a matrix, where each column is a neuron.\n",
    "        \"\"\"\n",
    "        return np.array([n.weights for n in self.neurons])\n",
    "    \n",
    "    @weights_matrix.setter\n",
    "    def weights_matrix(self, new_weights):\n",
    "        for neuron_i, neuron in enumerate(self.neurons):\n",
    "            neuron.weights = new_weights[neuron_i]\n",
    "    \n",
    "    def transform(self, input_data, activation_function=sigmoid):\n",
    "        \"\"\"Calculates layer output based on input data\n",
    "        \"\"\"\n",
    "        \n",
    "        # Include bias\n",
    "        #biased_input_data = np.ones((input_data.shape[0], input_data.shape[1] + 1))\n",
    "        #biased_input_data[:, :-1] = input_data\n",
    "        \n",
    "        self.z = np.dot(input_data, self.weights_matrix.T)\n",
    "        self.activation = activation_function(self.z)\n",
    "        return self.activation\n",
    "\n",
    "class NeuralNet():\n",
    "    def __init__(self, *layers, learning_rate=0.1, epochs=5):\n",
    "        self.layers = layers\n",
    "        self.learning_rate = learning_rate\n",
    "        self.costs = list()\n",
    "        self.epochs = epochs\n",
    "    \n",
    "    def transform(self, X):\n",
    "        X_transformed = X.copy()\n",
    "        for layer in self.layers:\n",
    "            X_transformed = layer.transform(X_transformed)\n",
    "        \n",
    "        return X_transformed\n",
    "    \n",
    "    def __repr__(self):\n",
    "        return f'Neural Net \\n{self.weights_matrix}'\n",
    "    \n",
    "    @property\n",
    "    def weights_matrix(self):\n",
    "        \"\"\"Represents layer's weights as a matrix, where each column is a neuron.\n",
    "        \"\"\"\n",
    "        return np.array([l.weights_matrix for l in self.layers], dtype=object)\n",
    "    \n",
    "    def cost(self, X, y):\n",
    "        hx = np.array(self.transform(X).flat)\n",
    "        log1_hx = np.log(hx)\n",
    "        log2_hx = np.log(1 - hx)\n",
    "        y_1 = np.multiply(log1_hx, y)\n",
    "        y_0 = np.multiply((1 - y), log2_hx)\n",
    "        return -np.sum(\n",
    "            y_1 + y_0\n",
    "        ) / X.shape[0]\n",
    "    \n",
    "    def backpropagate(self, sample, sample_i, hxi, label):\n",
    "        logger.debug(f'\\n\\n+++++++++++++++')\n",
    "        logger.debug(f'+++++++++++++++')\n",
    "        logger.debug(f'+++++++++++++++')\n",
    "        logger.debug(f'Starting backpropagration\\n')\n",
    "        logger.debug(f'Sample {sample}')\n",
    "        logger.debug(f'Hxi {hxi}')\n",
    "        logger.debug(f'Label {label}')\n",
    "        \n",
    "        reversed_layers = self.layers[::-1]\n",
    "        previous_deltas = np.array([hxi - label])\n",
    "        logger.debug(f'Initial Deltas: \\n{previous_deltas}\\n')\n",
    "        \n",
    "        for i, layer in enumerate(reversed_layers):\n",
    "            logger.debug(f'\\n-----------------')\n",
    "            logger.debug(f'Index {i}, {layer}\\n')\n",
    "            logger.debug(f'Current Delta: \\n{previous_deltas}\\n')\n",
    "            \n",
    "            if (i+1) == len(reversed_layers):\n",
    "                activation = sample\n",
    "            else:\n",
    "                activation = reversed_layers[i+1].activation[sample_i]\n",
    "\n",
    "            transposed_weights = layer.weights_matrix.T\n",
    "                \n",
    "            logger.debug(f'Transposed weights: \\n{transposed_weights}')\n",
    "            logger.debug(f'Previous deltas: \\n{previous_deltas}\\n')\n",
    "            \n",
    "            delta_weights = np.dot(previous_deltas, layer.weights_matrix)\n",
    "            sigmoid_derivate = sigmoid_derivative(activation)\n",
    "            \n",
    "            logger.debug(f'Delta Weights: \\n{delta_weights}')\n",
    "            logger.debug(f'Activation: \\n{activation}')\n",
    "            logger.debug(f'Sigmoid derivative: \\n{sigmoid_derivate}\\n')\n",
    "            \n",
    "            new_deltas = delta_weights * sigmoid_derivate\n",
    "            logger.debug(f'New deltas: \\n{new_deltas}\\n')\n",
    "            \n",
    "            layer.error_der += np.outer(previous_deltas, activation)\n",
    "            logger.debug(f'Error derivative: \\n{layer.error_der}')\n",
    "            \n",
    "            previous_deltas = new_deltas # Exclude bias delta\n",
    "            \n",
    "            logger.debug('\\n')\n",
    "        \n",
    "    def fit(self, X, y):\n",
    "        hx = np.array(self.transform(X).flat)\n",
    "        input_data = X[:]\n",
    "        for epoch in range(self.epochs):\n",
    "            logger.debug(f'Running epoch {epoch}')\n",
    "            for sample_i, sample in enumerate(input_data):\n",
    "                self.backpropagate(sample, sample_i, hx[sample_i], y[sample_i])\n",
    "                for layer in self.layers:\n",
    "                    layer.weights_matrix = layer.weights_matrix - self.learning_rate * layer.error_der / len(input_data)\n",
    "\n",
    "                self.costs.append(self.cost(X, y))\n",
    "        \n",
    "        plt.plot(self.costs)\n",
    "        plt.title('Cost through time')\n",
    "        plt.ylabel('Cost')\n",
    "        plt.show()"
   ]
  },
  {
   "cell_type": "code",
   "execution_count": 52,
   "id": "every-transaction",
   "metadata": {},
   "outputs": [
    {
     "name": "stdout",
     "output_type": "stream",
     "text": [
      "Neural Net \n",
      "[array([[ 1.49084507,  0.20167094],\n",
      "        [ 0.76943776, -0.45859597],\n",
      "        [-1.39527514, -0.45078283]])\n",
      " array([[-0.22177301, -0.81925029, -0.15915028]])]\n",
      "Initial cost: 0.7291618171594566\n"
     ]
    }
   ],
   "source": [
    "logger.setLevel(logging.INFO)\n",
    "layers = [\n",
    "    Layer(input_length=X.shape[1], n_neurons=3),\n",
    "    Layer(input_length=3, n_neurons=1),\n",
    "]\n",
    "\n",
    "nn = NeuralNet(*layers, learning_rate=3, epochs=10)\n",
    "print(nn)\n",
    "print(f'Initial cost: {nn.cost(X, y)}')"
   ]
  },
  {
   "cell_type": "code",
   "execution_count": 53,
   "id": "incorporate-nicaragua",
   "metadata": {},
   "outputs": [
    {
     "data": {
      "text/plain": [
       "0.7291618171594566"
      ]
     },
     "execution_count": 53,
     "metadata": {},
     "output_type": "execute_result"
    }
   ],
   "source": [
    "nn.cost(X, y)"
   ]
  },
  {
   "cell_type": "code",
   "execution_count": 54,
   "id": "reserved-alaska",
   "metadata": {
    "scrolled": false
   },
   "outputs": [
    {
     "name": "stderr",
     "output_type": "stream",
     "text": [
      "<ipython-input-51-6cb1a99e1198>:97: RuntimeWarning: divide by zero encountered in log\n",
      "  log2_hx = np.log(1 - hx)\n",
      "<ipython-input-51-6cb1a99e1198>:99: RuntimeWarning: invalid value encountered in multiply\n",
      "  y_0 = np.multiply((1 - y), log2_hx)\n"
     ]
    },
    {
     "data": {
      "image/png": "[encoded data removed]",
      "text/plain": [
       "<Figure size 432x288 with 1 Axes>"
      ]
     },
     "metadata": {
      "needs_background": "light"
     },
     "output_type": "display_data"
    }
   ],
   "source": [
    "nn.fit(X, y)"
   ]
  },
  {
   "cell_type": "code",
   "execution_count": null,
   "id": "institutional-witch",
   "metadata": {},
   "outputs": [],
   "source": []
  },
  {
   "cell_type": "code",
   "execution_count": null,
   "id": "durable-rochester",
   "metadata": {},
   "outputs": [],
   "source": []
  },
  {
   "cell_type": "code",
   "execution_count": null,
   "id": "listed-asset",
   "metadata": {},
   "outputs": [],
   "source": []
  },
  {
   "cell_type": "code",
   "execution_count": null,
   "id": "developmental-queensland",
   "metadata": {},
   "outputs": [],
   "source": [
    "nn.layers[0].weights_matrix = np.array([\n",
    "    [-.5, 2, 0.6],\n",
    "])"
   ]
  },
  {
   "cell_type": "code",
   "execution_count": null,
   "id": "committed-extension",
   "metadata": {},
   "outputs": [],
   "source": [
    "a = np.array([\n",
    "    [1, 2, 3],\n",
    "    [3, 4, 7],\n",
    "])\n",
    "b = np.array([1.5, 3, 4])\n",
    "np.multiply(a, b)"
   ]
  },
  {
   "cell_type": "code",
   "execution_count": null,
   "id": "previous-introduction",
   "metadata": {},
   "outputs": [],
   "source": [
    "c = np.array([\n",
    "    [1, 2, 3],\n",
    "])\n",
    "d = np.array([2, 3, 4])\n",
    "np.dot(c, d)"
   ]
  },
  {
   "cell_type": "code",
   "execution_count": null,
   "id": "animated-gibraltar",
   "metadata": {},
   "outputs": [],
   "source": []
  }
 ],
 "metadata": {
  "kernelspec": {
   "display_name": "Python 3",
   "language": "python",
   "name": "python3"
  },
  "language_info": {
   "codemirror_mode": {
    "name": "ipython",
    "version": 3
   },
   "file_extension": ".py",
   "mimetype": "text/x-python",
   "name": "python",
   "nbconvert_exporter": "python",
   "pygments_lexer": "ipython3",
   "version": "3.9.4"
  }
 },
 "nbformat": 4,
 "nbformat_minor": 5
}
