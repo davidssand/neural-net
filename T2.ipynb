{
 "cells": [
  {
   "cell_type": "markdown",
   "id": "dying-plate",
   "metadata": {},
   "source": [
    "# Inteligência Artificial - Trabalho\n",
    "- Universidade Federal de Santa Catarina\n",
    "- Departamento de Automação e Sistemas\n",
    "- Prof. Eric Aislan Antonelo\n",
    "\n",
    "### Grupo\n",
    "-\n",
    "\n",
    "### Opção: 1\n",
    "\n",
    "#### 1. Implementação:\n",
    "- Crie as estruturas de dados para guardar os pesos que definem uma arquitetura\n",
    "de rede neural multi-camadas. Inicialize a rede neural aleatoriamente.\n",
    "- Implemente o algoritmo da retropropagação para o cálculo do gradiente, a\n",
    "derivada parcial da função de custo com relação aos pesos da rede.\n",
    "- Valide o algoritmo do cálculo do gradiente, realizando uma aproximação numérica\n",
    "do mesmo. Verifique se os cálculos batem um com o outro.\n",
    "- Dado o gradiente já calculado, implemente o método do descenso do gradiente\n",
    "para o treinamento da rede neural, ou seja, o processo de ajuste dos pesos.\n",
    "\n",
    "#### 2. Aplicação:\n",
    "- Use o código implementado para treinar uma rede neural para realizar a classificação de um padrão de duas dimensões de entrada. Os dados para treinamento\n",
    "estão disponíveis no arquivo\n",
    "classification2.txt.\n",
    "Para plotar a fronteira de decisão da rede treinada, poderá usar o código\n",
    "disponível no link\n",
    "https://colab.research.google.com/drive/1XTtZGgpAefbiWejTrEjsnWzS_\n",
    "XXYdzff?usp=sharing.\n",
    "- Relate resultados variando pelo menos duas vezes cada um dos hiperparâmetros: o número de camadas; o número de neurônios por camada; taxa de aprendizagem. Use métricas como taxa de classificação (porcentagem de predições\n",
    "corretas) no conjunto de validação (exemplos não usados no treinamento).\n",
    "- (opcional) Treine uma rede neural para classificar dígitos a partir de imagens\n",
    "como entrada para a rede. Use o arquivo\n",
    "classification3.mat.\n",
    "\n",
    "#### 3. Entregas:\n",
    "No relatório a ser entregue, descreva os experimentos e os resultados obtidos.\n",
    "Grave um video de até 3 minutos, onde você deve explicar o código implementado\n",
    "de uma forma geral, as dificuldades encontradas, e em especial:\n",
    "- a parte do código referente ao cálculo do gradiente\n",
    "- a parte do código referente ao gradient descent\n",
    "- o gráfico da fronteira de decisão\n",
    "Entregue o código, PDF do relatório e o arquivo de video pelo Moodle (zipado com\n",
    "ZIP ou tar.gz)."
   ]
  },
  {
   "cell_type": "code",
   "execution_count": 1,
   "id": "favorite-desire",
   "metadata": {},
   "outputs": [],
   "source": [
    "import pandas as pd\n",
    "import numpy as np\n",
    "import sys\n",
    "import logging\n",
    "from matplotlib import pyplot as plt\n",
    "import seaborn as sns\n",
    "import sklearn\n",
    "from sklearn.model_selection import train_test_split\n",
    "from sklearn.linear_model import LogisticRegression\n",
    "from sklearn.metrics import accuracy_score\n",
    "from sklearn.metrics import f1_score\n",
    "from sklearn.neural_network import MLPClassifier\n",
    "from numpy import genfromtxt\n",
    "from sklearn.preprocessing import StandardScaler\n",
    "\n",
    "logger = logging.getLogger()\n",
    "logger.setLevel(logging.INFO)\n",
    "formatter = logging.Formatter('%(message)s')\n",
    "\n",
    "stdout_handler = logging.StreamHandler(sys.stdout)\n",
    "stdout_handler.setFormatter(formatter)\n",
    "\n",
    "logger.addHandler(stdout_handler)"
   ]
  },
  {
   "cell_type": "markdown",
   "id": "freelance-taste",
   "metadata": {},
   "source": [
    "### Data source"
   ]
  },
  {
   "cell_type": "code",
   "execution_count": 2,
   "id": "consecutive-malta",
   "metadata": {
    "scrolled": true
   },
   "outputs": [
    {
     "name": "stdout",
     "output_type": "stream",
     "text": [
      "<class 'pandas.core.frame.DataFrame'>\n",
      "RangeIndex: 118 entries, 0 to 117\n",
      "Data columns (total 3 columns):\n",
      " #   Column   Non-Null Count  Dtype  \n",
      "---  ------   --------------  -----  \n",
      " 0   column1  118 non-null    float64\n",
      " 1   column2  118 non-null    float64\n",
      " 2   label    118 non-null    int64  \n",
      "dtypes: float64(2), int64(1)\n",
      "memory usage: 2.9 KB\n",
      "\n",
      "Label Value counts: \n",
      "0    60\n",
      "1    58\n",
      "Name: label, dtype: int64\n"
     ]
    },
    {
     "data": {
      "text/html": [
       "<div>\n",
       "<style scoped>\n",
       "    .dataframe tbody tr th:only-of-type {\n",
       "        vertical-align: middle;\n",
       "    }\n",
       "\n",
       "    .dataframe tbody tr th {\n",
       "        vertical-align: top;\n",
       "    }\n",
       "\n",
       "    .dataframe thead th {\n",
       "        text-align: right;\n",
       "    }\n",
       "</style>\n",
       "<table border=\"1\" class=\"dataframe\">\n",
       "  <thead>\n",
       "    <tr style=\"text-align: right;\">\n",
       "      <th></th>\n",
       "      <th>column1</th>\n",
       "      <th>column2</th>\n",
       "      <th>label</th>\n",
       "    </tr>\n",
       "  </thead>\n",
       "  <tbody>\n",
       "    <tr>\n",
       "      <th>0</th>\n",
       "      <td>0.051267</td>\n",
       "      <td>0.69956</td>\n",
       "      <td>1</td>\n",
       "    </tr>\n",
       "    <tr>\n",
       "      <th>1</th>\n",
       "      <td>-0.092742</td>\n",
       "      <td>0.68494</td>\n",
       "      <td>1</td>\n",
       "    </tr>\n",
       "    <tr>\n",
       "      <th>2</th>\n",
       "      <td>-0.213710</td>\n",
       "      <td>0.69225</td>\n",
       "      <td>1</td>\n",
       "    </tr>\n",
       "    <tr>\n",
       "      <th>3</th>\n",
       "      <td>-0.375000</td>\n",
       "      <td>0.50219</td>\n",
       "      <td>1</td>\n",
       "    </tr>\n",
       "    <tr>\n",
       "      <th>4</th>\n",
       "      <td>-0.513250</td>\n",
       "      <td>0.46564</td>\n",
       "      <td>1</td>\n",
       "    </tr>\n",
       "  </tbody>\n",
       "</table>\n",
       "</div>"
      ],
      "text/plain": [
       "    column1  column2  label\n",
       "0  0.051267  0.69956      1\n",
       "1 -0.092742  0.68494      1\n",
       "2 -0.213710  0.69225      1\n",
       "3 -0.375000  0.50219      1\n",
       "4 -0.513250  0.46564      1"
      ]
     },
     "execution_count": 2,
     "metadata": {},
     "output_type": "execute_result"
    }
   ],
   "source": [
    "df = pd.read_csv('classification2.txt', header=None)\n",
    "df.columns = ['column1', 'column2', 'label']\n",
    "df.info()\n",
    "print(f'\\nLabel Value counts: \\n{df.label.value_counts()}')\n",
    "df.head()"
   ]
  },
  {
   "cell_type": "markdown",
   "id": "working-georgia",
   "metadata": {},
   "source": [
    "### Correlation Matrix"
   ]
  },
  {
   "cell_type": "code",
   "execution_count": 3,
   "id": "catholic-advantage",
   "metadata": {},
   "outputs": [
    {
     "data": {
      "image/png": "[encoded data removed]",
      "text/plain": [
       "<Figure size 360x360 with 2 Axes>"
      ]
     },
     "metadata": {
      "needs_background": "light"
     },
     "output_type": "display_data"
    }
   ],
   "source": [
    "corr = df.corr()\n",
    "mask = np.triu(np.ones_like(corr, dtype=bool))\n",
    "f, ax = plt.subplots(figsize=(5, 5))\n",
    "cmap = sns.diverging_palette(230, 20, as_cmap=True)\n",
    "sns.heatmap(\n",
    "    corr, mask=mask, cmap=cmap, vmax=.3, center=0,\n",
    "    square=True, linewidths=.2, cbar_kws={\"shrink\": .5}\n",
    ")\n",
    "plt.show()"
   ]
  },
  {
   "cell_type": "code",
   "execution_count": 4,
   "id": "brazilian-triangle",
   "metadata": {},
   "outputs": [],
   "source": [
    "X = df.iloc[:, :-1].to_numpy()\n",
    "y = df.iloc[:, -1]\n",
    "y = y.values.reshape(y.shape[0], 1)\n",
    "X_train, X_test, y_train, y_test = train_test_split(X, y, test_size=0.3, random_state=42)\n",
    "\n",
    "#standardize the dataset\n",
    "sc = StandardScaler()\n",
    "sc.fit(X_train)\n",
    "X_train = sc.transform(X_train)\n",
    "X_test = sc.transform(X_test)"
   ]
  },
  {
   "cell_type": "code",
   "execution_count": 5,
   "id": "gorgeous-software",
   "metadata": {},
   "outputs": [],
   "source": [
    "X_train = genfromtxt('X_train.csv', delimiter=',')\n",
    "X_test = genfromtxt('X_test.csv', delimiter=',')\n",
    "y_train = genfromtxt('y_train.csv', delimiter=',')\n",
    "y_train = y_train.reshape(y_train.shape[0], 1)\n",
    "y_test = genfromtxt('y_test.csv', delimiter=',')\n",
    "y_test = y_test.reshape(y_test.shape[0], 1)"
   ]
  },
  {
   "cell_type": "code",
   "execution_count": 6,
   "id": "american-utilization",
   "metadata": {},
   "outputs": [],
   "source": [
    "def print_metrics(y, preds):\n",
    "    print(f'F1 : {f1_score(y, preds)}')\n",
    "    print(f'Accuracy: {accuracy_score(y, preds)}')"
   ]
  },
  {
   "cell_type": "markdown",
   "id": "racial-proof",
   "metadata": {},
   "source": [
    "### Neural net data structure"
   ]
  },
  {
   "cell_type": "code",
   "execution_count": 7,
   "id": "pediatric-attribute",
   "metadata": {},
   "outputs": [],
   "source": [
    "# To ADD / REMOVE bias\n",
    "#self.input_length = input_length# + 1\n",
    "\n",
    "#biased_input_data = np.ones((input_data.shape[0], input_data.shape[1] + 1))\n",
    "#biased_input_data[:, :-1] = input_data\n",
    "\n",
    "#next_activation = np.append(next_activation, 1)\n",
    "\n",
    "#previous_deltas = new_deltas[:-1] # Exclude bias delta\n"
   ]
  },
  {
   "cell_type": "code",
   "execution_count": 108,
   "id": "textile-novel",
   "metadata": {},
   "outputs": [],
   "source": [
    "def sigmoid(x):\n",
    "    return 1 / (1 + np.exp(-x)) \n",
    "\n",
    "def sigmoid_derivative(x):\n",
    "    return x * (1 - x)\n",
    "\n",
    "def relu(x):\n",
    "    return np.maximum(0, x)\n",
    "\n",
    "def relu_derivative(x):\n",
    "    x[x <= 0] = 0\n",
    "    x[x > 0] = 1\n",
    "    return x\n",
    "\n",
    "class Neuron():\n",
    "    def __init__(self, input_length):\n",
    "        self.__weights = self.create_random_weights(input_length)\n",
    "        \n",
    "    def create_random_weights(self, input_length):\n",
    "        #return np.random.uniform(-0.5, 0.5, input_length)\n",
    "        return np.random.randn(input_length) - 0.5\n",
    "        \n",
    "    @property\n",
    "    def weights(self):\n",
    "        return self.__weights\n",
    "    \n",
    "    @weights.setter\n",
    "    def weights(self, new_value):\n",
    "        self.__weights = new_value\n",
    "    \n",
    "    def __repr__(self):\n",
    "        return f'Neuron {self.weights}'\n",
    "    \n",
    "class Layer():\n",
    "    def __init__(self, input_length, n_neurons):\n",
    "        self.input_length = input_length + 1 # input_length + bias_length\n",
    "        self.n_neurons = n_neurons\n",
    "        self.create_neurons()\n",
    "        self.dd = np.zeros((self.n_neurons, self.input_length))\n",
    "    \n",
    "    def create_neurons(self):\n",
    "        \"\"\"Creates neurons of layer\n",
    "        \"\"\"\n",
    "        self.neurons = list()\n",
    "        for i in range(self.n_neurons):\n",
    "            self.neurons.append(\n",
    "                Neuron(self.input_length)\n",
    "            )\n",
    "            \n",
    "    def __repr__(self):\n",
    "        return f'Layer \\n{self.weights_matrix}'\n",
    "    \n",
    "    @property\n",
    "    def weights_matrix(self):\n",
    "        \"\"\"Represents layer's weights as a matrix, where each column is a neuron.\n",
    "        \"\"\"\n",
    "        return np.array([n.weights for n in self.neurons])\n",
    "    \n",
    "    @weights_matrix.setter\n",
    "    def weights_matrix(self, new_weights):\n",
    "        for neuron_i, neuron in enumerate(self.neurons):\n",
    "            neuron.weights = new_weights[neuron_i]\n",
    "            \n",
    "    def biased_activation(self):\n",
    "        return np.append(self.activation, 1)\n",
    "    \n",
    "    def transform(self, input_data, activation_function):\n",
    "        \"\"\"Calculates layer output based on input data\n",
    "        \"\"\"\n",
    "        \n",
    "        # Include bias\n",
    "        biased_input_data = np.ones((input_data.shape[0], input_data.shape[1] + 1))\n",
    "        biased_input_data[:, :-1] = input_data\n",
    "        \n",
    "        self.z = np.dot(biased_input_data, self.weights_matrix.T)\n",
    "\n",
    "        self.activation = activation_function(self.z)\n",
    "        \n",
    "        #print('X')\n",
    "        #print(input_data.shape)\n",
    "        #print(input_data)\n",
    "        #print('W')\n",
    "        #print(self.weights_matrix.shape)\n",
    "        #print(self.weights_matrix.T)\n",
    "    #\n",
    "        #print('Z')\n",
    "        #print(self.z)\n",
    "        #print('Activ func')\n",
    "        #print(activation_function)\n",
    "    #\n",
    "        #print('A')\n",
    "        #print(self.activation)\n",
    "\n",
    "        return self.activation\n",
    "\n",
    "class NeuralNet():\n",
    "    def __init__(self, *layers, learning_rate=0.1, epochs=5,\n",
    "                 activation_function=relu, der_activation_function=relu_derivative,\n",
    "                 last_layer_activation_function=sigmoid, last_layer_der_activation_function=sigmoid_derivative,\n",
    "                ):\n",
    "        self.layers = layers\n",
    "        self.learning_rate = learning_rate\n",
    "        self.costs = list()\n",
    "        self.epochs = epochs\n",
    "        self.activation_function = activation_function\n",
    "        self.der_activation_function = der_activation_function\n",
    "        self.last_layer_activation_function = last_layer_activation_function\n",
    "        self.last_layer_der_activation_function = last_layer_der_activation_function\n",
    "    \n",
    "    def transform(self, X):\n",
    "        X_transformed = X.copy()\n",
    "        for layer in self.layers[:-1]:\n",
    "            X_transformed = layer.transform(X_transformed, activation_function=self.activation_function)\n",
    "\n",
    "        X_transformed = self.layers[-1].transform(\n",
    "            X_transformed,\n",
    "            activation_function=self.last_layer_activation_function\n",
    "        )\n",
    "        return X_transformed\n",
    "    \n",
    "    def __repr__(self):\n",
    "        return f'Neural Net \\n{self.weights_matrix}'\n",
    "    \n",
    "    @property\n",
    "    def weights_matrix(self):\n",
    "        \"\"\"Represents layer's weights as a matrix, where each column is a neuron.\n",
    "        \"\"\"\n",
    "        return np.array([l.weights_matrix for l in self.layers], dtype=object)\n",
    "\n",
    "    @weights_matrix.setter\n",
    "    def weights_matrix(self, new_weights):\n",
    "        for layer_i, layer in enumerate(self.layers):\n",
    "            layer.weights_matrix = new_weights[layer_i]\n",
    "    \n",
    "    def cost_2(self, X, y):\n",
    "        hx = self.transform(X)\n",
    "        return 0.5 * np.sum((np.subtract(y.reshape(len(y)), hx) ** 2)) / X.shape[0]\n",
    "            \n",
    "    def cost(self, X, y):\n",
    "        hx = self.transform(X)\n",
    "        \n",
    "        log1_hx = np.log(hx)\n",
    "        log2_hx = np.log(1 - hx)\n",
    "        \n",
    "        y_1 = y * log1_hx\n",
    "        y_0 = (1 - y) * log2_hx\n",
    "\n",
    "        return -np.sum(\n",
    "            y_1 + y_0\n",
    "        ) / X.shape[0]\n",
    "    \n",
    "    def has_next_item(self, list_, index_):\n",
    "        return (index_ + 1) == len(list_)\n",
    "\n",
    "    def backpropagate(self, X, hx, y):\n",
    "        loss_der =  np.divide(1 - y, np.maximum(1 - hx, 0.00001)) - np.divide(y, np.maximum(hx, 0.00001))\n",
    "        deltas = self.last_layer_der_activation_function(hx) * loss_der\n",
    "        \n",
    "        reversed_layers = self.layers[::-1]\n",
    "\n",
    "        next_activation = reversed_layers[1].activation\n",
    "        \n",
    "        next_activation_biased = np.append(\n",
    "            next_activation,\n",
    "            np.ones(next_activation.shape[0]).reshape((next_activation.shape[0], 1)),\n",
    "            axis=1\n",
    "        )\n",
    "\n",
    "        dl_wrt_w2 = np.dot(next_activation_biased.T, deltas)\n",
    "        \n",
    "        deltas = np.dot(\n",
    "            deltas,\n",
    "            reversed_layers[0].weights_matrix[:, :-1],\n",
    "        ) * self.der_activation_function(next_activation)\n",
    "        \n",
    "        X_biased = np.append(\n",
    "            X,\n",
    "            np.ones(X.shape[0]).reshape((X.shape[0], 1)),\n",
    "            axis=1\n",
    "        )\n",
    "        \n",
    "        dl_wrt_w1 = X_biased.T.dot(deltas)\n",
    "\n",
    "        reversed_layers[0].weights_matrix -= self.learning_rate * dl_wrt_w2.T / len(X)\n",
    "        reversed_layers[1].weights_matrix -= self.learning_rate * dl_wrt_w1.T / len(X)\n",
    "        \n",
    "    def fit(self, X, y):\n",
    "        logger.info(f'Fitting')\n",
    "        #cost_mse = list()\n",
    "        for epoch in range(self.epochs):\n",
    "            hx = self.transform(X)\n",
    "            loss = self.cost(X, y)\n",
    "            self.backpropagate(X, hx, y)\n",
    "            self.costs.append(loss)\n",
    "            \n",
    "            #print('yhat')\n",
    "            #print(hx)\n",
    "            #print('loss')\n",
    "            #print(loss)\n",
    "            \n",
    "            if epoch % 500 == 0:\n",
    "                logger.info(f'Running epoch {epoch}')\n",
    "                \n",
    "                plt.plot(self.costs)\n",
    "                plt.title('Cross entrophy cost')\n",
    "                plt.ylabel('Cost')\n",
    "                plt.xlabel('Epoch')\n",
    "                plt.show()\n",
    "        \n",
    "        plt.plot(self.costs)\n",
    "        plt.title('Cross entrophy cost')\n",
    "        plt.ylabel('Cost')\n",
    "        plt.xlabel('Epoch')\n",
    "        plt.show()"
   ]
  },
  {
   "cell_type": "code",
   "execution_count": 109,
   "id": "streaming-bowling",
   "metadata": {
    "scrolled": true
   },
   "outputs": [
    {
     "name": "stdout",
     "output_type": "stream",
     "text": [
      "Neural Net \n",
      "[array([[ 1.12434536e+00, -1.11175641e+00, -1.02817175e+00],\n",
      "        [-1.57296862e+00,  3.65407629e-01, -2.80153870e+00],\n",
      "        [ 1.24481176e+00, -1.26120690e+00, -1.80960904e-01],\n",
      "        [-7.49370375e-01,  9.62107937e-01, -2.56014071e+00],\n",
      "        [-8.22417204e-01, -8.84054355e-01,  6.33769442e-01],\n",
      "        [-1.59989127e+00, -6.72428208e-01, -1.37785842e+00],\n",
      "        [-4.57786253e-01,  8.28152137e-02, -1.60061918e+00],\n",
      "        [ 6.44723710e-01,  4.01590721e-01,  2.49433890e-03],\n",
      "        [ 4.00855949e-01, -1.18372786e+00, -6.22890226e-01],\n",
      "        [-1.43576943e+00, -7.67888080e-01,  3.03554667e-02],\n",
      "        [-1.19166075e+00, -8.96753527e-01, -1.18717270e+00],\n",
      "        [-1.34520564e+00, -1.17124613e+00, -5.12664599e-01],\n",
      "        [-1.61731035e+00, -2.65584302e-01,  1.15980218e+00],\n",
      "        [ 2.42044161e-01, -6.91835552e-01, -1.38762896e+00],\n",
      "        [-1.24715829e+00,  1.19245460e+00, -4.49192245e-01],\n",
      "        [-1.13699565e+00, -3.09084515e-01,  1.60025514e+00],\n",
      "        [-3.79841048e-01,  1.17203110e-01, -1.99829680e-01],\n",
      "        [-8.52249846e-01, -1.64251820e+00, -8.49342722e-01],\n",
      "        [-7.08894233e-01,  8.66231912e-02,  3.38983414e-01],\n",
      "        [ 4.31102081e-01, -2.14412675e-01,  3.85141164e-01],\n",
      "        [-1.25439794e+00,  7.52868155e-01,  1.29298204e-02],\n",
      "        [-7.98092835e-01, -1.14818535e-02, -5.75571713e-01],\n",
      "        [ 6.31629387e-01,  1.01981682e+00,  1.68557541e+00],\n",
      "        [-1.89649634e+00, -1.94411381e+00, -1.00446586e+00],\n",
      "        [-3.39962931e-01,  3.76168921e-01, -1.84365053e-01],\n",
      "        [-2.52220122e+00, -8.06204013e-01,  3.27974643e-01],\n",
      "        [-2.69905265e-01,  2.62011180e-01, -7.22328143e-01],\n",
      "        [-7.00758069e-01, -3.13438609e-01, -8.99483528e-02],\n",
      "        [-3.01700280e-01, -3.80991354e-01, -1.17066229e+00],\n",
      "        [-1.22436214e-01, -3.78178729e-01,  6.29483908e-01],\n",
      "        [ 6.98917880e-01, -3.14843583e-01, -8.75284950e-01],\n",
      "        [-1.13873041e+00, -7.65056459e-02, -4.22659932e-01],\n",
      "        [-8.43853676e-01, -4.56403143e-01, -1.12000084e+00],\n",
      "        [ 1.98032034e-01, -9.47128565e-01,  7.24507705e-01],\n",
      "        [-9.65083582e-02,  9.35785232e-02, -1.59491185e+00],\n",
      "        [-3.30617567e-01,  2.40556451e-01, -1.45370060e+00],\n",
      "        [-7.66218506e-01, -4.67385453e-01, -1.87311732e+00],\n",
      "        [-1.84840608e-01,  3.46160648e-01, -1.35951594e+00],\n",
      "        [-1.49454021e-01, -1.81228341e+00, -5.38695509e-01],\n",
      "        [-2.11577235e+00,  6.21417708e-01, -9.10994621e-02],\n",
      "        [-5.24616956e-01, -1.27516162e+00,  7.73755930e-01],\n",
      "        [ 1.46710175e+00, -2.35798186e+00,  7.36164030e-01],\n",
      "        [ 1.12765075e+00, -1.61988303e-01, -1.69926803e+00],\n",
      "        [ 3.63345318e-01, -6.80920302e-01, -1.10392063e+00],\n",
      "        [-1.73005814e+00,  5.05374960e-02,  2.92806866e-01],\n",
      "        [-1.12353073e+00,  2.05763371e-02, -1.64434139e+00],\n",
      "        [ 3.01861032e-01, -4.53432702e-01, -6.86569772e-01],\n",
      "        [-6.01745873e-01,  3.68886157e-01,  2.50411640e-01],\n",
      "        [ 2.94653244e-02, -3.62298790e-01, -4.22178872e-01],\n",
      "        [ 1.18380262e-01, -2.67505441e-01,  1.82551407e-01]])\n",
      " array([[-0.81011677, -2.93483776,  0.5388246 ,  1.68697965, -0.05863556,\n",
      "         -0.60015523, -0.63644474, -0.61905419, -0.48259059, -1.62201873,\n",
      "         -1.01709446, -1.49702683, -0.25120084, -0.79664115, -0.00478868,\n",
      "         -0.67470316,  0.48633519, -0.2864661 ,  1.69069973, -2.39636092,\n",
      "         -1.14691669,  0.40148689,  2.02832571, -0.74863478, -0.45633101,\n",
      "         -0.72631424,  0.83145711, -0.78730786,  0.18006984, -0.8198016 ,\n",
      "         -1.77255876, -0.18645228,  0.00318481,  0.79322588, -0.61044703,\n",
      "         -1.11736206,  0.0627611 , -0.25926291, -0.21933492, -0.5731127 ,\n",
      "          0.66033857, -0.13050728,  1.40465871,  0.6110567 ,  0.1590498 ,\n",
      "         -2.12743834,  0.10231928, -0.0797178 ,  0.31095167,  0.54444209,\n",
      "         -0.90087819]])                                                  ]\n"
     ]
    }
   ],
   "source": [
    "logger.setLevel(logging.DEBUG)\n",
    "#logger.setLevel(logging.INFO)\n",
    "\n",
    "layers = [\n",
    "    Layer(input_length=X_train.shape[1], n_neurons=50),\n",
    "    Layer(input_length=50, n_neurons=1),\n",
    "]\n",
    "\n",
    "np.random.seed(1) # Seed the random number generator\n",
    "nn = NeuralNet(*layers, learning_rate=0.01, epochs=3000,\n",
    "                activation_function=relu, der_activation_function=relu_derivative,\n",
    "                last_layer_activation_function=sigmoid, last_layer_der_activation_function=sigmoid_derivative,\n",
    "              )\n",
    "\n",
    "#nn.weights_matrix = [\n",
    "#    np.array(\n",
    "#        [\n",
    "#            [1.62434536, -2.3015387, 1.46210794],\n",
    "#            [-0.61175641, 1.74481176, -2.06014071],\n",
    "#            [-0.52817175, -0.7612069, -0.3224172],\n",
    "#            [-1.07296862, 0.3190391, -0.38405435],\n",
    "#            [0.86540763, -0.24937038, 1.13376944],\n",
    "#            \n",
    "#        ],\n",
    "#    ),\n",
    "#    np.array([\n",
    "#        [-1.09989127, -0.17242821, -0.87785842, 0.04221375, 0.58281521, -1.10061918]\n",
    "#    ])\n",
    "#]\n",
    "print(nn)\n",
    "#print(f'Initial cost: {nn.cost(X_train, y_train)}')"
   ]
  },
  {
   "cell_type": "code",
   "execution_count": 110,
   "id": "innocent-renewal",
   "metadata": {},
   "outputs": [
    {
     "data": {
      "text/plain": [
       "2.3899640034271776"
      ]
     },
     "execution_count": 110,
     "metadata": {},
     "output_type": "execute_result"
    }
   ],
   "source": [
    "nn.cost(X_train, y_train)"
   ]
  },
  {
   "cell_type": "code",
   "execution_count": 111,
   "id": "blocked-murder",
   "metadata": {
    "scrolled": true
   },
   "outputs": [
    {
     "name": "stdout",
     "output_type": "stream",
     "text": [
      "Fitting\n",
      "Running epoch 0\n"
     ]
    },
    {
     "data": {
      "image/png": "[encoded data removed]",
      "text/plain": [
       "<Figure size 432x288 with 1 Axes>"
      ]
     },
     "metadata": {
      "needs_background": "light"
     },
     "output_type": "display_data"
    },
    {
     "name": "stdout",
     "output_type": "stream",
     "text": [
      "Running epoch 500\n"
     ]
    },
    {
     "data": {
      "image/png": "[encoded data removed]",
      "text/plain": [
       "<Figure size 432x288 with 1 Axes>"
      ]
     },
     "metadata": {
      "needs_background": "light"
     },
     "output_type": "display_data"
    },
    {
     "name": "stdout",
     "output_type": "stream",
     "text": [
      "Running epoch 1000\n"
     ]
    },
    {
     "data": {
      "image/png": "[encoded data removed]",
      "text/plain": [
       "<Figure size 432x288 with 1 Axes>"
      ]
     },
     "metadata": {
      "needs_background": "light"
     },
     "output_type": "display_data"
    },
    {
     "name": "stdout",
     "output_type": "stream",
     "text": [
      "Running epoch 1500\n"
     ]
    },
    {
     "data": {
      "image/png": "[encoded data removed]",
      "text/plain": [
       "<Figure size 432x288 with 1 Axes>"
      ]
     },
     "metadata": {
      "needs_background": "light"
     },
     "output_type": "display_data"
    },
    {
     "name": "stdout",
     "output_type": "stream",
     "text": [
      "Running epoch 2000\n"
     ]
    },
    {
     "data": {
      "image/png": "[encoded data removed]",
      "text/plain": [
       "<Figure size 432x288 with 1 Axes>"
      ]
     },
     "metadata": {
      "needs_background": "light"
     },
     "output_type": "display_data"
    },
    {
     "name": "stdout",
     "output_type": "stream",
     "text": [
      "Running epoch 2500\n"
     ]
    },
    {
     "data": {
      "image/png": "[encoded data removed]",
      "text/plain": [
       "<Figure size 432x288 with 1 Axes>"
      ]
     },
     "metadata": {
      "needs_background": "light"
     },
     "output_type": "display_data"
    },
    {
     "data": {
      "image/png": "[encoded data removed]",
      "text/plain": [
       "<Figure size 432x288 with 1 Axes>"
      ]
     },
     "metadata": {
      "needs_background": "light"
     },
     "output_type": "display_data"
    }
   ],
   "source": [
    "nn.fit(X_train, y_train)"
   ]
  },
  {
   "cell_type": "code",
   "execution_count": 106,
   "id": "vertical-grain",
   "metadata": {
    "scrolled": true
   },
   "outputs": [
    {
     "name": "stdout",
     "output_type": "stream",
     "text": [
      "F1 : 0.7499999999999999\n",
      "Accuracy: 0.7777777777777778\n"
     ]
    }
   ],
   "source": [
    "nn_preds = nn.transform(X_test)\n",
    "nn_preds_round = nn_preds.round()\n",
    "print_metrics(y_test, nn_preds_round)"
   ]
  },
  {
   "cell_type": "code",
   "execution_count": 107,
   "id": "pacific-vulnerability",
   "metadata": {},
   "outputs": [
    {
     "data": {
      "image/png": "[encoded data removed]",
      "text/plain": [
       "<Figure size 432x288 with 1 Axes>"
      ]
     },
     "metadata": {
      "needs_background": "light"
     },
     "output_type": "display_data"
    },
    {
     "data": {
      "image/png": "[encoded data removed]",
      "text/plain": [
       "<Figure size 432x288 with 1 Axes>"
      ]
     },
     "metadata": {
      "needs_background": "light"
     },
     "output_type": "display_data"
    }
   ],
   "source": [
    "def plot_outputs(X, y):\n",
    "    plt.scatter(X[y==1,0],X[y==1,1],c=\"r\",marker=\"+\")\n",
    "    plt.scatter(X[y==0,0],X[y==0,1],marker=\"o\",s=10)\n",
    "    plt.xlabel(\"x1\")\n",
    "    plt.ylabel(\"x2\")\n",
    "    plt.legend([\"1\",\"0\"],loc=0)\n",
    "    plt.show()\n",
    "    \n",
    "plot_outputs(X_test, y_test.reshape((len(y_test))))\n",
    "plot_outputs(X_test, nn_preds_round.ravel())"
   ]
  },
  {
   "cell_type": "code",
   "execution_count": null,
   "id": "engaged-corps",
   "metadata": {},
   "outputs": [],
   "source": []
  },
  {
   "cell_type": "code",
   "execution_count": null,
   "id": "expired-marine",
   "metadata": {},
   "outputs": [],
   "source": []
  },
  {
   "cell_type": "code",
   "execution_count": null,
   "id": "impressive-cologne",
   "metadata": {},
   "outputs": [],
   "source": []
  },
  {
   "cell_type": "code",
   "execution_count": null,
   "id": "accepted-message",
   "metadata": {},
   "outputs": [],
   "source": []
  },
  {
   "cell_type": "code",
   "execution_count": null,
   "id": "ranging-victoria",
   "metadata": {},
   "outputs": [],
   "source": [
    "cls = LogisticRegression()\n",
    "cls.fit(X_train, y_train.ravel())\n",
    "lr_preds = cls.predict(X_test)\n",
    "print('LogisticRegression')\n",
    "print_metrics(y_test.ravel(), lr_preds)\n",
    "\n",
    "cls = MLPClassifier()\n",
    "cls.fit(X_train, y_train.ravel())\n",
    "mlp_preds = cls.predict(X_test)\n",
    "print('MLPClassifier')\n",
    "print_metrics(y_test.ravel(), mlp_preds)"
   ]
  },
  {
   "cell_type": "code",
   "execution_count": null,
   "id": "certain-operation",
   "metadata": {},
   "outputs": [],
   "source": [
    "# add header names\n",
    "headers =  ['age', 'sex','chest_pain','resting_blood_pressure',  \n",
    "        'serum_cholestoral', 'fasting_blood_sugar', 'resting_ecg_results',\n",
    "        'max_heart_rate_achieved', 'exercise_induced_angina', 'oldpeak',\"slope of the peak\",\n",
    "        'num_of_major_vessels','thal', 'heart_disease']\n",
    "\n",
    "heart_df = pd.read_csv('heart.csv', names=headers, skiprows=range(1))\n",
    "\n",
    "X = heart_df.iloc[:, :-1]\n",
    "y = heart_df.iloc[:, -1].values.reshape(X.shape[0], 1)\n",
    "X_train, X_test, y_train, y_test = train_test_split(X, y, test_size=0.3)\n",
    "\n",
    "print(f\"Shape of train set is {X_train.shape}\")\n",
    "print(f\"Shape of test set is {X_test.shape}\")\n",
    "print(f\"Shape of train label is {y_train.shape}\")\n",
    "print(f\"Shape of test labels is {y_test.shape}\")"
   ]
  },
  {
   "cell_type": "code",
   "execution_count": null,
   "id": "knowing-mobile",
   "metadata": {},
   "outputs": [],
   "source": [
    "###############\n",
    "##### Plotando fronteira de decisão não-linear\n",
    "###############\n",
    "\n",
    "import numpy as np\n",
    "import matplotlib.pyplot as plt\n",
    "\n",
    "# Plotando fronteira de decisão\n",
    "x1s = np.linspace(-1,1.5,50)\n",
    "x2s = np.linspace(-1,1.5,50)\n",
    "z = np.zeros((len(x1s),len(x2s)))\n",
    "\n",
    "z = theta.T * x\n",
    "\n",
    "for i in range(len(x1s)):\n",
    "    for j in range(len(x2s)):\n",
    "        z[i,j] =  # saida do modelo antes de aplicar a função sigmoide \n",
    "plt.contour(x1s,x2s,z.T,0)\n",
    "plt.xlabel(\"x1\")\n",
    "plt.ylabel(\"x2\")\n",
    "plt.legend(loc=0)"
   ]
  },
  {
   "cell_type": "code",
   "execution_count": null,
   "id": "acute-probe",
   "metadata": {},
   "outputs": [],
   "source": []
  }
 ],
 "metadata": {
  "kernelspec": {
   "display_name": "Python 3",
   "language": "python",
   "name": "python3"
  },
  "language_info": {
   "codemirror_mode": {
    "name": "ipython",
    "version": 3
   },
   "file_extension": ".py",
   "mimetype": "text/x-python",
   "name": "python",
   "nbconvert_exporter": "python",
   "pygments_lexer": "ipython3",
   "version": "3.9.5"
  }
 },
 "nbformat": 4,
 "nbformat_minor": 5
}
