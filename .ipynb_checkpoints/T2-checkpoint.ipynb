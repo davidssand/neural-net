{
 "cells": [
  {
   "cell_type": "markdown",
   "id": "dying-plate",
   "metadata": {},
   "source": [
    "# Inteligência Artificial - Trabalho\n",
    "- Universidade Federal de Santa Catarina\n",
    "- Departamento de Automação e Sistemas\n",
    "- Prof. Eric Aislan Antonelo\n",
    "\n",
    "### Grupo\n",
    "-\n",
    "\n",
    "### Opção: 1\n",
    "\n",
    "#### 1. Implementação:\n",
    "- Crie as estruturas de dados para guardar os pesos que definem uma arquitetura\n",
    "de rede neural multi-camadas. Inicialize a rede neural aleatoriamente.\n",
    "- Implemente o algoritmo da retropropagação para o cálculo do gradiente, a\n",
    "derivada parcial da função de custo com relação aos pesos da rede.\n",
    "- Valide o algoritmo do cálculo do gradiente, realizando uma aproximação numérica\n",
    "do mesmo. Verifique se os cálculos batem um com o outro.\n",
    "- Dado o gradiente já calculado, implemente o método do descenso do gradiente\n",
    "para o treinamento da rede neural, ou seja, o processo de ajuste dos pesos.\n",
    "\n",
    "#### 2. Aplicação:\n",
    "- Use o código implementado para treinar uma rede neural para realizar a classificação de um padrão de duas dimensões de entrada. Os dados para treinamento\n",
    "estão disponíveis no arquivo\n",
    "classification2.txt.\n",
    "Para plotar a fronteira de decisão da rede treinada, poderá usar o código\n",
    "disponível no link\n",
    "https://colab.research.google.com/drive/1XTtZGgpAefbiWejTrEjsnWzS_\n",
    "XXYdzff?usp=sharing.\n",
    "- Relate resultados variando pelo menos duas vezes cada um dos hiperparâmetros: o número de camadas; o número de neurônios por camada; taxa de aprendizagem. Use métricas como taxa de classificação (porcentagem de predições\n",
    "corretas) no conjunto de validação (exemplos não usados no treinamento).\n",
    "- (opcional) Treine uma rede neural para classificar dígitos a partir de imagens\n",
    "como entrada para a rede. Use o arquivo\n",
    "classification3.mat.\n",
    "\n",
    "#### 3. Entregas:\n",
    "No relatório a ser entregue, descreva os experimentos e os resultados obtidos.\n",
    "Grave um video de até 3 minutos, onde você deve explicar o código implementado\n",
    "de uma forma geral, as dificuldades encontradas, e em especial:\n",
    "- a parte do código referente ao cálculo do gradiente\n",
    "- a parte do código referente ao gradient descent\n",
    "- o gráfico da fronteira de decisão\n",
    "Entregue o código, PDF do relatório e o arquivo de video pelo Moodle (zipado com\n",
    "ZIP ou tar.gz)."
   ]
  },
  {
   "cell_type": "code",
   "execution_count": 1,
   "id": "favorite-desire",
   "metadata": {},
   "outputs": [],
   "source": [
    "import pandas as pd\n",
    "import numpy as np\n",
    "import sys\n",
    "import logging\n",
    "from matplotlib import pyplot as plt\n",
    "import seaborn as sns\n",
    "import sklearn\n",
    "from sklearn.model_selection import train_test_split\n",
    "from sklearn.linear_model import LogisticRegression\n",
    "from sklearn.metrics import accuracy_score\n",
    "from sklearn.metrics import f1_score\n",
    "from sklearn.neural_network import MLPClassifier\n",
    "from numpy import genfromtxt\n",
    "\n",
    "logger = logging.getLogger()\n",
    "logger.setLevel(logging.INFO)\n",
    "formatter = logging.Formatter('%(message)s')\n",
    "\n",
    "stdout_handler = logging.StreamHandler(sys.stdout)\n",
    "stdout_handler.setFormatter(formatter)\n",
    "\n",
    "logger.addHandler(stdout_handler)"
   ]
  },
  {
   "cell_type": "markdown",
   "id": "freelance-taste",
   "metadata": {},
   "source": [
    "### Data source"
   ]
  },
  {
   "cell_type": "code",
   "execution_count": 2,
   "id": "consecutive-malta",
   "metadata": {
    "scrolled": true
   },
   "outputs": [
    {
     "name": "stdout",
     "output_type": "stream",
     "text": [
      "<class 'pandas.core.frame.DataFrame'>\n",
      "RangeIndex: 118 entries, 0 to 117\n",
      "Data columns (total 3 columns):\n",
      " #   Column   Non-Null Count  Dtype  \n",
      "---  ------   --------------  -----  \n",
      " 0   column1  118 non-null    float64\n",
      " 1   column2  118 non-null    float64\n",
      " 2   label    118 non-null    int64  \n",
      "dtypes: float64(2), int64(1)\n",
      "memory usage: 2.9 KB\n",
      "\n",
      "Label Value counts: \n",
      "0    60\n",
      "1    58\n",
      "Name: label, dtype: int64\n"
     ]
    },
    {
     "data": {
      "text/html": [
       "<div>\n",
       "<style scoped>\n",
       "    .dataframe tbody tr th:only-of-type {\n",
       "        vertical-align: middle;\n",
       "    }\n",
       "\n",
       "    .dataframe tbody tr th {\n",
       "        vertical-align: top;\n",
       "    }\n",
       "\n",
       "    .dataframe thead th {\n",
       "        text-align: right;\n",
       "    }\n",
       "</style>\n",
       "<table border=\"1\" class=\"dataframe\">\n",
       "  <thead>\n",
       "    <tr style=\"text-align: right;\">\n",
       "      <th></th>\n",
       "      <th>column1</th>\n",
       "      <th>column2</th>\n",
       "      <th>label</th>\n",
       "    </tr>\n",
       "  </thead>\n",
       "  <tbody>\n",
       "    <tr>\n",
       "      <th>0</th>\n",
       "      <td>0.051267</td>\n",
       "      <td>0.69956</td>\n",
       "      <td>1</td>\n",
       "    </tr>\n",
       "    <tr>\n",
       "      <th>1</th>\n",
       "      <td>-0.092742</td>\n",
       "      <td>0.68494</td>\n",
       "      <td>1</td>\n",
       "    </tr>\n",
       "    <tr>\n",
       "      <th>2</th>\n",
       "      <td>-0.213710</td>\n",
       "      <td>0.69225</td>\n",
       "      <td>1</td>\n",
       "    </tr>\n",
       "    <tr>\n",
       "      <th>3</th>\n",
       "      <td>-0.375000</td>\n",
       "      <td>0.50219</td>\n",
       "      <td>1</td>\n",
       "    </tr>\n",
       "    <tr>\n",
       "      <th>4</th>\n",
       "      <td>-0.513250</td>\n",
       "      <td>0.46564</td>\n",
       "      <td>1</td>\n",
       "    </tr>\n",
       "  </tbody>\n",
       "</table>\n",
       "</div>"
      ],
      "text/plain": [
       "    column1  column2  label\n",
       "0  0.051267  0.69956      1\n",
       "1 -0.092742  0.68494      1\n",
       "2 -0.213710  0.69225      1\n",
       "3 -0.375000  0.50219      1\n",
       "4 -0.513250  0.46564      1"
      ]
     },
     "execution_count": 2,
     "metadata": {},
     "output_type": "execute_result"
    }
   ],
   "source": [
    "df = pd.read_csv('classification2.txt', header=None)\n",
    "df.columns = ['column1', 'column2', 'label']\n",
    "df.info()\n",
    "print(f'\\nLabel Value counts: \\n{df.label.value_counts()}')\n",
    "df.head()"
   ]
  },
  {
   "cell_type": "markdown",
   "id": "working-georgia",
   "metadata": {},
   "source": [
    "### Correlation Matrix"
   ]
  },
  {
   "cell_type": "code",
   "execution_count": 3,
   "id": "catholic-advantage",
   "metadata": {},
   "outputs": [
    {
     "data": {
      "image/png": "[encoded data removed]",
      "text/plain": [
       "<Figure size 360x360 with 2 Axes>"
      ]
     },
     "metadata": {
      "needs_background": "light"
     },
     "output_type": "display_data"
    }
   ],
   "source": [
    "corr = df.corr()\n",
    "mask = np.triu(np.ones_like(corr, dtype=bool))\n",
    "f, ax = plt.subplots(figsize=(5, 5))\n",
    "cmap = sns.diverging_palette(230, 20, as_cmap=True)\n",
    "sns.heatmap(\n",
    "    corr, mask=mask, cmap=cmap, vmax=.3, center=0,\n",
    "    square=True, linewidths=.2, cbar_kws={\"shrink\": .5}\n",
    ")\n",
    "plt.show()"
   ]
  },
  {
   "cell_type": "code",
   "execution_count": 4,
   "id": "brazilian-triangle",
   "metadata": {},
   "outputs": [],
   "source": [
    "#X = df.iloc[:, :-1].to_numpy()\n",
    "#y = df.iloc[:, -1]\n",
    "#y = y.values.reshape(y.shape[0], 1)\n",
    "#X_train, X_test, y_train, y_test = train_test_split(X, y, test_size=0.3, random_state=42)"
   ]
  },
  {
   "cell_type": "code",
   "execution_count": 27,
   "id": "gorgeous-software",
   "metadata": {},
   "outputs": [],
   "source": [
    "X_train = genfromtxt('X_train.csv', delimiter=',')\n",
    "X_test = genfromtxt('X_test.csv', delimiter=',')\n",
    "y_train = genfromtxt('y_train.csv', delimiter=',')\n",
    "y_train = y_train.reshape(y_train.shape[0], 1)\n",
    "y_test = genfromtxt('y_test.csv', delimiter=',')\n",
    "y_test = y_test.reshape(y_test.shape[0], 1)"
   ]
  },
  {
   "cell_type": "code",
   "execution_count": 28,
   "id": "american-utilization",
   "metadata": {},
   "outputs": [],
   "source": [
    "def print_metrics(y, preds):\n",
    "    print(f'F1 : {f1_score(y, preds)}')\n",
    "    print(f'Accuracy: {accuracy_score(y, preds)}')"
   ]
  },
  {
   "cell_type": "markdown",
   "id": "racial-proof",
   "metadata": {},
   "source": [
    "### Neural net data structure"
   ]
  },
  {
   "cell_type": "code",
   "execution_count": 30,
   "id": "pediatric-attribute",
   "metadata": {},
   "outputs": [],
   "source": [
    "# To add bias\n",
    "#self.input_length = input_length# + 1\n",
    "\n",
    "#biased_input_data = np.ones((input_data.shape[0], input_data.shape[1] + 1))\n",
    "#biased_input_data[:, :-1] = input_data\n",
    "\n",
    "#next_activation = np.append(next_activation, 1)\n",
    "#previous_deltas = new_deltas[:-1] # Exclude bias delta\n"
   ]
  },
  {
   "cell_type": "code",
   "execution_count": 31,
   "id": "textile-novel",
   "metadata": {},
   "outputs": [],
   "source": [
    "def sigmoid(data):\n",
    "    return 1 / (1 + np.exp(-data)) \n",
    "\n",
    "def sigmoid_derivative(data):\n",
    "    return data * (1 - data)\n",
    "\n",
    "def relu(Z):\n",
    "    return np.maximum(0,Z)\n",
    "\n",
    "def relu_derivative(x):\n",
    "    x[x<=0] = 0\n",
    "    x[x>0] = 1\n",
    "    return x\n",
    "\n",
    "class Neuron():\n",
    "    def __init__(self, input_length):\n",
    "        self.__weights = self.create_random_weights(input_length)\n",
    "        \n",
    "    def create_random_weights(self, input_length):\n",
    "        return np.random.randn(input_length)\n",
    "        \n",
    "    @property\n",
    "    def weights(self):\n",
    "        return self.__weights\n",
    "    \n",
    "    @weights.setter\n",
    "    def weights(self, new_value):\n",
    "        self.__weights = new_value\n",
    "    \n",
    "    def __repr__(self):\n",
    "        return f'Neuron {self.weights}'\n",
    "    \n",
    "class Layer():\n",
    "    def __init__(self, input_length, n_neurons):\n",
    "        self.input_length = input_length# + 1 # input_length + bias_length\n",
    "        self.n_neurons = n_neurons\n",
    "        self.create_neurons()\n",
    "        self.dd = np.zeros((self.n_neurons, self.input_length))\n",
    "    \n",
    "    def create_neurons(self):\n",
    "        \"\"\"Creates neurons of layer\n",
    "        \"\"\"\n",
    "        self.neurons = list()\n",
    "        for i in range(self.n_neurons):\n",
    "            self.neurons.append(\n",
    "                Neuron(self.input_length)\n",
    "            )\n",
    "            \n",
    "    def __repr__(self):\n",
    "        return f'Layer \\n{self.weights_matrix}'\n",
    "    \n",
    "    @property\n",
    "    def weights_matrix(self):\n",
    "        \"\"\"Represents layer's weights as a matrix, where each column is a neuron.\n",
    "        \"\"\"\n",
    "        return np.array([n.weights for n in self.neurons])\n",
    "    \n",
    "    @weights_matrix.setter\n",
    "    def weights_matrix(self, new_weights):\n",
    "        for neuron_i, neuron in enumerate(self.neurons):\n",
    "            neuron.weights = new_weights[neuron_i]\n",
    "    \n",
    "    def transform(self, input_data, activation_function):\n",
    "        \"\"\"Calculates layer output based on input data\n",
    "        \"\"\"\n",
    "        \n",
    "        # Include bias\n",
    "        #biased_input_data = np.ones((input_data.shape[0], input_data.shape[1] + 1))\n",
    "        #biased_input_data[:, :-1] = input_data\n",
    "        #print('X')\n",
    "        #print(input_data.shape)\n",
    "        #print(input_data)\n",
    "        #print('W')\n",
    "        #print(self.weights_matrix.shape)\n",
    "        #print(self.weights_matrix.T)\n",
    "        self.z = np.dot(input_data, self.weights_matrix.T)\n",
    "        #print('Z')\n",
    "        #print(self.z)\n",
    "        #print('Activ func')\n",
    "        #print(activation_function)\n",
    "        self.activation = activation_function(self.z)\n",
    "        #print('A')\n",
    "        #print(self.activation)\n",
    "        return self.activation\n",
    "\n",
    "class NeuralNet():\n",
    "    def __init__(self, *layers, learning_rate=0.1, epochs=5,\n",
    "                 activation_function=sigmoid, der_activation_function=sigmoid_derivative):\n",
    "        self.layers = layers\n",
    "        self.learning_rate = learning_rate\n",
    "        self.costs = list()\n",
    "        self.epochs = epochs\n",
    "        self.activation_function = activation_function\n",
    "        self.der_activation_function = der_activation_function\n",
    "    \n",
    "    def transform(self, X):\n",
    "        X_transformed = X.copy()\n",
    "        for layer in self.layers[:-1]:\n",
    "            X_transformed = layer.transform(X_transformed, activation_function=self.activation_function)\n",
    "\n",
    "        X_transformed = self.layers[-1].transform(X_transformed, activation_function=sigmoid)\n",
    "        return X_transformed.reshape(X.shape[0])\n",
    "    \n",
    "    def __repr__(self):\n",
    "        return f'Neural Net \\n{self.weights_matrix}'\n",
    "    \n",
    "    @property\n",
    "    def weights_matrix(self):\n",
    "        \"\"\"Represents layer's weights as a matrix, where each column is a neuron.\n",
    "        \"\"\"\n",
    "        return np.array([l.weights_matrix for l in self.layers], dtype=object)\n",
    "\n",
    "    @weights_matrix.setter\n",
    "    def weights_matrix(self, new_weights):\n",
    "        for layer_i, layer in enumerate(self.layers):\n",
    "            layer.weights_matrix = new_weights[layer_i]\n",
    "    \n",
    "    #def sample_cost(self, sample, label):\n",
    "    #    log1_sample = np.log(sample)\n",
    "    #    log2_sample = np.log(1 - sample)\n",
    "    #    y_1 = np.multiply(log1_sample, label)\n",
    "    #    y_0 = np.multiply((1 - label), log2_sample)\n",
    "    #    return -(y_1 + y_0)\n",
    "    \n",
    "    def cost_2(self, X, y):\n",
    "        hx = self.transform(X)\n",
    "        return 0.5 * np.sum((np.subtract(y.reshape(len(y)), hx) ** 2)) / X.shape[0]\n",
    "            \n",
    "    def cost(self, X, y):\n",
    "        hx = self.transform(X)\n",
    "        y_reshaped = y.reshape(len(y))\n",
    "        \n",
    "        log1_hx = np.log(hx)\n",
    "        log2_hx = np.log(1 - hx)\n",
    "        \n",
    "        y_1 = y_reshaped* log1_hx\n",
    "        y_0 = (1 - y_reshaped) * log2_hx\n",
    "\n",
    "        return -np.sum(\n",
    "            y_1 + y_0\n",
    "        ) / X.shape[0]\n",
    "    \n",
    "    def has_next_item(self, list_, index_):\n",
    "        return (index_ + 1) == len(list_)\n",
    "\n",
    "    def backpropagate(self, sample, sample_i, hxi, label):\n",
    "        logger.debug(f'\\n\\n+++++++++++++++')\n",
    "        logger.debug(f'Starting backpropagration\\n')\n",
    "        logger.debug(f'Sample {sample}')\n",
    "        logger.debug(f'Hxi {hxi}')\n",
    "        logger.debug(f'Label {label}')\n",
    "        \n",
    "        reversed_layers = self.layers[::-1]\n",
    "        previous_deltas = hxi - label\n",
    "        \n",
    "        logger.debug(f'Initial dds: \\n{previous_deltas}\\n')\n",
    "        \n",
    "        for layer_i, layer in enumerate(reversed_layers):\n",
    "            logger.debug(f'\\n-----------------')\n",
    "            logger.debug(f'Index {layer_i}, {layer}\\n')\n",
    "            \n",
    "            # Get activation from next layer\n",
    "            if self.has_next_item(reversed_layers, layer_i):\n",
    "                next_activation = sample\n",
    "            else:\n",
    "                next_layer = reversed_layers[layer_i + 1]\n",
    "                next_activation = next_layer.activation[sample_i]\n",
    "            \n",
    "            # Add bias to activation\n",
    "            #next_activation = np.append(next_activation, 1)\n",
    "            \n",
    "            # Multiply weights with deltas\n",
    "            transposed_weights = layer.weights_matrix.T\n",
    "            \n",
    "            logger.debug(f'Weights: \\n{layer.weights_matrix}')\n",
    "            logger.debug(f'Transposed weights: \\n{transposed_weights}')\n",
    "            logger.debug(f'Previous deltas: \\n{previous_deltas}\\n')\n",
    "\n",
    "            weights_dot_delta = np.dot(transposed_weights, previous_deltas)\n",
    "            logger.debug(f'Transposed Weights dot delta: \\n{weights_dot_delta}')\n",
    "            \n",
    "            # Calculate activation function derivative\n",
    "            der_act_function = self.der_activation_function(next_activation)\n",
    "            logger.debug(f'Next layer activation: \\n{next_activation}')\n",
    "            logger.debug(f'Activation function derivative: \\n{der_act_function}\\n')\n",
    "        \n",
    "            # Calculate new deltas\n",
    "            new_deltas = weights_dot_delta * der_act_function\n",
    "            logger.debug(f'New deltas: \\n{new_deltas}\\n')\n",
    "            \n",
    "            # Calculate cost derivative\n",
    "            dd = np.outer(previous_deltas, next_activation)\n",
    "            layer.dd += dd\n",
    "            previous_deltas = new_deltas#[:-1] # Exclude bias delta\n",
    "            logger.debug(f'Error derivative: \\n{dd}')\n",
    "            logger.debug(f'Layer error derivative: \\n{layer.dd}')\n",
    "            logger.debug('\\n')\n",
    "        \n",
    "    def fit(self, X, y):\n",
    "        logger.info(f'Fitting')\n",
    "        cost_mse = list()\n",
    "        for epoch in range(self.epochs):\n",
    "            hx = self.transform(X)\n",
    "            #logger.info(f'Running epoch {epoch}')\n",
    "            for sample_i, sample in enumerate(X):\n",
    "                #logger.info(f'\\n\\nBackProp')\n",
    "                self.backpropagate(sample, sample_i, hx[sample_i], y[sample_i])\n",
    "\n",
    "            for layer_i, layer in enumerate(self.layers):\n",
    "                #logger.info(f'Layer {layer_i} {layer}')\n",
    "                #logger.info(f'Error der \\n{layer.dd}')\n",
    "                #logger.info('')\n",
    "                layer.weights_matrix -= self.learning_rate * layer.dd / len(X)\n",
    "                \n",
    "            self.costs.append(self.cost(X, y))\n",
    "            cost_mse.append(self.cost_2(X, y))\n",
    "        \n",
    "        plt.plot(self.costs)\n",
    "        plt.title('Cross entrophy cost')\n",
    "        plt.ylabel('Cost')\n",
    "        plt.xlabel('Epoch')\n",
    "        plt.show()\n",
    "        \n",
    "        plt.plot(cost_mse)\n",
    "        plt.title('Mean squared cost')\n",
    "        plt.ylabel('Cost')\n",
    "        plt.xlabel('Epoch')\n",
    "        plt.show()"
   ]
  },
  {
   "cell_type": "code",
   "execution_count": 45,
   "id": "streaming-bowling",
   "metadata": {
    "scrolled": false
   },
   "outputs": [
    {
     "name": "stdout",
     "output_type": "stream",
     "text": [
      "Neural Net \n",
      "[array([[ 1.62434536, -1.07296862],\n",
      "        [-0.61175641,  0.86540763],\n",
      "        [-0.52817175, -2.3015387 ]])\n",
      " array([[ 1.74481176, -0.7612069 ,  0.3190391 ]])]\n"
     ]
    }
   ],
   "source": [
    "#logger.setLevel(logging.DEBUG)\n",
    "logger.setLevel(logging.INFO)\n",
    "\n",
    "layers = [\n",
    "    Layer(input_length=X_train.shape[1], n_neurons=3),\n",
    "    Layer(input_length=3, n_neurons=1),\n",
    "]\n",
    "\n",
    "np.random.seed(1) # Seed the random number generator\n",
    "nn = NeuralNet(*layers, learning_rate=0.01, epochs=50,\n",
    "              activation_function=relu, der_activation_function=relu_derivative)\n",
    "\n",
    "nn.weights_matrix = [\n",
    "    np.array(\n",
    "        [\n",
    "            [1.62434536, -1.07296862],\n",
    "            [-0.61175641, 0.86540763],\n",
    "            [-0.52817175, -2.3015387 ]\n",
    "        ],\n",
    "    ),\n",
    "    np.array([\n",
    "        [ 1.74481176, -0.7612069 ,  0.3190391]\n",
    "    ])\n",
    "]\n",
    "print(nn)\n",
    "#print(f'Initial cost: {nn.cost(X_train, y_train)}')"
   ]
  },
  {
   "cell_type": "code",
   "execution_count": 47,
   "id": "respiratory-thickness",
   "metadata": {},
   "outputs": [
    {
     "data": {
      "text/plain": [
       "array([1., 0., 0., 1., 1., 0., 1., 0., 1., 1., 1., 1., 0., 1., 0., 0., 1.,\n",
       "       0., 1., 1., 1., 0., 0., 1., 0., 1., 0., 1., 1., 1., 0., 1., 1., 0.,\n",
       "       1., 1.])"
      ]
     },
     "execution_count": 47,
     "metadata": {},
     "output_type": "execute_result"
    }
   ],
   "source": [
    "np.round(nn.transform(X_test))"
   ]
  },
  {
   "cell_type": "code",
   "execution_count": 44,
   "id": "blocked-murder",
   "metadata": {},
   "outputs": [
    {
     "name": "stdout",
     "output_type": "stream",
     "text": [
      "Fitting\n"
     ]
    },
    {
     "data": {
      "image/png": "[encoded data removed]",
      "text/plain": [
       "<Figure size 432x288 with 1 Axes>"
      ]
     },
     "metadata": {
      "needs_background": "light"
     },
     "output_type": "display_data"
    },
    {
     "data": {
      "image/png": "[encoded data removed]",
      "text/plain": [
       "<Figure size 432x288 with 1 Axes>"
      ]
     },
     "metadata": {
      "needs_background": "light"
     },
     "output_type": "display_data"
    }
   ],
   "source": [
    "nn.fit(X_train, y_train)\n",
    "nn_preds = nn.transform(X_test)\n",
    "nn_preds_round = nn_preds.round()"
   ]
  },
  {
   "cell_type": "code",
   "execution_count": 12,
   "id": "vertical-grain",
   "metadata": {},
   "outputs": [
    {
     "name": "stdout",
     "output_type": "stream",
     "text": [
      "F1 : 0.41379310344827586\n",
      "Accuracy: 0.5277777777777778\n"
     ]
    },
    {
     "data": {
      "text/plain": [
       "array([0., 0., 0., 1., 1., 0., 1., 0., 0., 1., 1., 1., 0., 0., 0., 0., 0.,\n",
       "       0., 0., 0., 1., 0., 0., 1., 0., 1., 0., 0., 0., 0., 0., 0., 0., 0.,\n",
       "       1., 0.])"
      ]
     },
     "execution_count": 12,
     "metadata": {},
     "output_type": "execute_result"
    }
   ],
   "source": [
    "print_metrics(y_test, nn_preds_round)\n",
    "nn_preds_round"
   ]
  },
  {
   "cell_type": "code",
   "execution_count": null,
   "id": "ranging-victoria",
   "metadata": {},
   "outputs": [],
   "source": [
    "cls = LogisticRegression()\n",
    "cls.fit(X_train, y_train)\n",
    "lr_preds = cls.predict(X_test)\n",
    "print('LogisticRegression')\n",
    "print_metrics(y_test, lr_preds)\n",
    "\n",
    "cls = MLPClassifier()\n",
    "cls.fit(X_train, y_train)\n",
    "mlp_preds = cls.predict(X_test)\n",
    "print('MLPClassifier')\n",
    "print_metrics(y_test, mlp_preds)"
   ]
  },
  {
   "cell_type": "code",
   "execution_count": 13,
   "id": "pacific-vulnerability",
   "metadata": {},
   "outputs": [
    {
     "data": {
      "image/png": "[encoded data removed]",
      "text/plain": [
       "<Figure size 432x288 with 1 Axes>"
      ]
     },
     "metadata": {
      "needs_background": "light"
     },
     "output_type": "display_data"
    },
    {
     "data": {
      "image/png": "[encoded data removed]",
      "text/plain": [
       "<Figure size 432x288 with 1 Axes>"
      ]
     },
     "metadata": {
      "needs_background": "light"
     },
     "output_type": "display_data"
    }
   ],
   "source": [
    "def plot_outputs(X, y):\n",
    "    plt.scatter(X[y==1,0],X[y==1,1],c=\"r\",marker=\"+\")\n",
    "    plt.scatter(X[y==0,0],X[y==0,1],marker=\"o\",s=10)\n",
    "    plt.xlabel(\"x1\")\n",
    "    plt.ylabel(\"x2\")\n",
    "    plt.legend([\"1\",\"0\"],loc=0)\n",
    "    plt.show()\n",
    "    \n",
    "plot_outputs(X_test, y_test.reshape((len(y_test))))\n",
    "plot_outputs(X_test, nn_preds_round)"
   ]
  },
  {
   "cell_type": "code",
   "execution_count": null,
   "id": "certain-operation",
   "metadata": {},
   "outputs": [],
   "source": [
    "# add header names\n",
    "headers =  ['age', 'sex','chest_pain','resting_blood_pressure',  \n",
    "        'serum_cholestoral', 'fasting_blood_sugar', 'resting_ecg_results',\n",
    "        'max_heart_rate_achieved', 'exercise_induced_angina', 'oldpeak',\"slope of the peak\",\n",
    "        'num_of_major_vessels','thal', 'heart_disease']\n",
    "\n",
    "heart_df = pd.read_csv('heart.csv', names=headers, skiprows=range(1))\n",
    "\n",
    "X = heart_df.iloc[:, :-1]\n",
    "y = heart_df.iloc[:, -1].values.reshape(X.shape[0], 1)\n",
    "X_train, X_test, y_train, y_test = train_test_split(X, y, test_size=0.3)\n",
    "\n",
    "print(f\"Shape of train set is {X_train.shape}\")\n",
    "print(f\"Shape of test set is {X_test.shape}\")\n",
    "print(f\"Shape of train label is {y_train.shape}\")\n",
    "print(f\"Shape of test labels is {y_test.shape}\")"
   ]
  },
  {
   "cell_type": "code",
   "execution_count": null,
   "id": "knowing-mobile",
   "metadata": {},
   "outputs": [],
   "source": [
    "###############\n",
    "##### Plotando fronteira de decisão não-linear\n",
    "###############\n",
    "\n",
    "import numpy as np\n",
    "import matplotlib.pyplot as plt\n",
    "\n",
    "# Plotando fronteira de decisão\n",
    "x1s = np.linspace(-1,1.5,50)\n",
    "x2s = np.linspace(-1,1.5,50)\n",
    "z = np.zeros((len(x1s),len(x2s)))\n",
    "\n",
    "z = theta.T * x\n",
    "\n",
    "for i in range(len(x1s)):\n",
    "    for j in range(len(x2s)):\n",
    "        z[i,j] =  # saida do modelo antes de aplicar a função sigmoide \n",
    "plt.contour(x1s,x2s,z.T,0)\n",
    "plt.xlabel(\"x1\")\n",
    "plt.ylabel(\"x2\")\n",
    "plt.legend(loc=0)"
   ]
  },
  {
   "cell_type": "code",
   "execution_count": null,
   "id": "acute-probe",
   "metadata": {},
   "outputs": [],
   "source": []
  }
 ],
 "metadata": {
  "kernelspec": {
   "display_name": "Python 3",
   "language": "python",
   "name": "python3"
  },
  "language_info": {
   "codemirror_mode": {
    "name": "ipython",
    "version": 3
   },
   "file_extension": ".py",
   "mimetype": "text/x-python",
   "name": "python",
   "nbconvert_exporter": "python",
   "pygments_lexer": "ipython3",
   "version": "3.9.5"
  }
 },
 "nbformat": 4,
 "nbformat_minor": 5
}
