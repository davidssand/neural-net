{
 "cells": [
  {
   "cell_type": "code",
   "execution_count": 96,
   "id": "narrow-fellow",
   "metadata": {},
   "outputs": [],
   "source": [
    "import pandas as pd\n",
    "import numpy as np\n",
    "import warnings\n",
    "import matplotlib.pyplot as plt\n",
    "from sklearn.model_selection import train_test_split\n",
    "from sklearn.preprocessing import StandardScaler"
   ]
  },
  {
   "cell_type": "code",
   "execution_count": 261,
   "id": "ignored-design",
   "metadata": {},
   "outputs": [],
   "source": [
    "def sigmoid(data):\n",
    "    return 1 / (1 + np.exp(-data)) \n",
    "\n",
    "def sigmoid_derivative(data):\n",
    "    return data * (1 - data)\n",
    "\n",
    "def relu(Z):\n",
    "    return np.maximum(0,Z)\n",
    "\n",
    "def dRelu(x):\n",
    "    x[x<=0] = 0\n",
    "    x[x>0] = 1\n",
    "    return x\n",
    "    \n",
    "class NeuralNet():\n",
    "    '''\n",
    "    A two layer neural network\n",
    "    '''\n",
    "        \n",
    "    def __init__(self, layers=[2, 3,1], learning_rate=0.01, iterations=50,\n",
    "                 activation_function=sigmoid, der_activation_function=sigmoid_derivative):\n",
    "        self.params = {}\n",
    "        self.learning_rate = learning_rate\n",
    "        self.iterations = iterations\n",
    "        self.loss = []\n",
    "        self.sample_size = None\n",
    "        self.layers = layers\n",
    "        self.X = None\n",
    "        self.y = None\n",
    "        self.init_weights() #initialize weights and bias\n",
    "        self.activation_function = activation_function\n",
    "        self.der_activation_function = der_activation_function\n",
    "                \n",
    "    def init_weights(self):\n",
    "        '''\n",
    "        Initialize the weights from a random normal distribution\n",
    "        '''\n",
    "        self.params[\"W1\"] = np.random.randn(self.layers[0], self.layers[1]) \n",
    "        #self.params['b1']  =np.random.randn(self.layers[1],)\n",
    "        self.params['W2'] = np.random.randn(self.layers[1],self.layers[2]) \n",
    "        #self.params['b2'] = np.random.randn(self.layers[2],)\n",
    "        print(self.params)\n",
    "        \n",
    "    def eta(self, x):\n",
    "        ETA = 0.0000000001\n",
    "        return np.maximum(x, ETA)\n",
    "\n",
    "    def entropy_loss(self,y, yhat):\n",
    "        nsample = len(y)\n",
    "        yhat_inv = 1.0 - yhat\n",
    "        y_inv = 1.0 - y\n",
    "        yhat_inv = self.eta(yhat_inv) \n",
    "        y_inv = self.eta(y_inv) \n",
    "        \n",
    "        return -1 / nsample * (\n",
    "            np.sum(\n",
    "                (y * np.log(yhat)) + ((y_inv) * np.log(yhat_inv))\n",
    "            )\n",
    "        )\n",
    "\n",
    "    def forward_propagation(self):\n",
    "        '''\n",
    "        Performs the forward propagation\n",
    "        '''\n",
    "        \n",
    "        Z1 = self.X.dot(self.params['W1'])# + self.params['b1']\n",
    "        A1 = self.activation_function(Z1)\n",
    "        Z2 = A1.dot(self.params['W2'])# + self.params['b2']\n",
    "        yhat = sigmoid(Z2)\n",
    "        loss = self.entropy_loss(self.y,yhat)\n",
    "\n",
    "        # save calculated parameters     \n",
    "        self.params['Z1'] = Z1\n",
    "        self.params['Z2'] = Z2\n",
    "        self.params['A1'] = A1\n",
    "\n",
    "        return yhat,loss\n",
    "\n",
    "    def back_propagation(self,yhat):\n",
    "        '''\n",
    "        Computes the derivatives and update weights and bias according.\n",
    "        '''\n",
    "        y_inv = 1 - self.y\n",
    "        yhat_inv = 1 - yhat\n",
    "\n",
    "        dl_wrt_yhat = np.divide(y_inv, self.eta(yhat_inv)) - np.divide(self.y, self.eta(yhat))\n",
    "        dl_wrt_sig = yhat * (yhat_inv)\n",
    "        dl_wrt_z2 = dl_wrt_yhat * dl_wrt_sig\n",
    "\n",
    "        dl_wrt_A1 = dl_wrt_z2.dot(self.params['W2'].T)\n",
    "        dl_wrt_w2 = self.params['A1'].T.dot(dl_wrt_z2)\n",
    "        #dl_wrt_b2 = np.sum(dl_wrt_z2, axis=0, keepdims=True)\n",
    "\n",
    "        dl_wrt_z1 = dl_wrt_A1 * self.activation_function(self.params['Z1'])\n",
    "        dl_wrt_w1 = self.X.T.dot(dl_wrt_z1)\n",
    "        #dl_wrt_b1 = np.sum(dl_wrt_z1, axis=0, keepdims=True)\n",
    "\n",
    "        #update the weights and bias\n",
    "        self.params['W1'] = self.params['W1'] - self.learning_rate * dl_wrt_w1\n",
    "        self.params['W2'] = self.params['W2'] - self.learning_rate * dl_wrt_w2\n",
    "        #self.params['b1'] = self.params['b1'] - self.learning_rate * dl_wrt_b1\n",
    "        #self.params['b2'] = self.params['b2'] - self.learning_rate * dl_wrt_b2\n",
    "\n",
    "    def fit(self, X, y):\n",
    "        '''\n",
    "        Trains the neural network using the specified data and labels\n",
    "        '''\n",
    "        self.X = X\n",
    "        self.y = y\n",
    "\n",
    "        for i in range(self.iterations):\n",
    "            yhat, loss = self.forward_propagation()\n",
    "            self.back_propagation(yhat)\n",
    "            self.loss.append(loss)\n",
    "\n",
    "    def predict(self, X):\n",
    "        '''\n",
    "        Predicts on a test data\n",
    "        '''\n",
    "        #print('X')\n",
    "        #print(X.shape)\n",
    "        #print(X)\n",
    "        #print('W1')\n",
    "        #print(self.params['W1'].shape)\n",
    "        #print(self.params['W1'])\n",
    "        Z1 = X.dot(self.params['W1'])# + self.params['b1']\n",
    "        \n",
    "        #print('Z1')\n",
    "        #print(Z1)\n",
    "        #print('Activ func1')\n",
    "        #print(self.activation_function)\n",
    "        A1 = self.activation_function(Z1)\n",
    "        \n",
    "        #print('A1')\n",
    "        #print(A1.shape)\n",
    "        #print(A1)\n",
    "        #print('W2')\n",
    "        #print(self.params['W2'].shape)\n",
    "        #print(self.params['W2'])\n",
    "        Z2 = A1.dot(self.params['W2'])# + self.params['b2']\n",
    "        \n",
    "       #print('Z2')\n",
    "       #print(Z2)\n",
    "       #print('Activ func2')\n",
    "       #print(sigmoid)\n",
    "        pred = sigmoid(Z2)\n",
    "        return np.round(pred) \n",
    "\n",
    "    def acc(self, y, yhat):\n",
    "        '''\n",
    "        Calculates the accutacy between the predicted valuea and the truth labels\n",
    "        '''\n",
    "        acc = int(sum(y == yhat) / len(y) * 100)\n",
    "        return acc\n",
    "\n",
    "\n",
    "    def plot_loss(self):\n",
    "        '''\n",
    "        Plots the loss curve\n",
    "        '''\n",
    "        plt.plot(self.loss)\n",
    "        plt.xlabel(\"Iteration\")\n",
    "        plt.ylabel(\"logloss\")\n",
    "        plt.title(\"Loss curve for training\")\n",
    "        plt.show()"
   ]
  },
  {
   "cell_type": "code",
   "execution_count": 262,
   "id": "rural-booking",
   "metadata": {},
   "outputs": [
    {
     "name": "stdout",
     "output_type": "stream",
     "text": [
      "Shape of train set is (81, 2)\n",
      "Shape of test set is (36, 2)\n",
      "Shape of train label is (81, 1)\n",
      "Shape of test labels is (36, 1)\n"
     ]
    }
   ],
   "source": [
    "# add header names\n",
    "headers =  ['age', 'sex','chest_pain','resting_blood_pressure',  \n",
    "        'serum_cholestoral', 'fasting_blood_sugar', 'resting_ecg_results',\n",
    "        'max_heart_rate_achieved', 'exercise_induced_angina', 'oldpeak',\"slope of the peak\",\n",
    "        'num_of_major_vessels','thal', 'heart_disease']\n",
    "\n",
    "heart_df = pd.read_csv('heart.csv', names=headers, skiprows=range(1))\n",
    "heart_df = pd.read_csv('classification2.txt')\n",
    "#convert imput to numpy arrays\n",
    "#X = heart_df.drop(columns=['heart_disease'])\n",
    "\n",
    "#replace target class with 0 and 1 \n",
    "#1 means \"have heart disease\" and 0 means \"do not have heart disease\"\n",
    "#heart_df['heart_disease'] = heart_df['heart_disease'].replace(1, 0)\n",
    "#heart_df['heart_disease'] = heart_df['heart_disease'].replace(2, 1)\n",
    "\n",
    "#y = heart_df['heart_disease'].values.reshape(X.shape[0], 1)\n",
    "\n",
    "X = heart_df.iloc[:, :-1]\n",
    "y = heart_df.iloc[:, -1]\n",
    "\n",
    "#split data into train and test set\n",
    "X_train, X_test, y_train, y_test = train_test_split(X, y, test_size=0.3, random_state=42)\n",
    "\n",
    "y_train = y_train.values.reshape(y_train.shape[0], 1)\n",
    "y_test = y_test.values.reshape(y_test.shape[0], 1)\n",
    "\n",
    "#standardize the dataset\n",
    "sc = StandardScaler()\n",
    "sc.fit(X_train)\n",
    "X_train = sc.transform(X_train)\n",
    "X_test = sc.transform(X_test)\n",
    "\n",
    "print(f\"Shape of train set is {X_train.shape}\")\n",
    "print(f\"Shape of test set is {X_test.shape}\")\n",
    "print(f\"Shape of train label is {y_train.shape}\")\n",
    "print(f\"Shape of test labels is {y_test.shape}\")\n",
    "\n",
    "np.savetxt('X_train.csv', X_train, delimiter=',')\n",
    "np.savetxt('X_test.csv', X_test, delimiter=',')\n",
    "np.savetxt('y_train.csv', y_train, delimiter=',')\n",
    "np.savetxt('y_test.csv', y_test, delimiter=',')"
   ]
  },
  {
   "cell_type": "code",
   "execution_count": 263,
   "id": "beneficial-relation",
   "metadata": {},
   "outputs": [
    {
     "name": "stdout",
     "output_type": "stream",
     "text": [
      "{'W1': array([[ 1.62434536, -0.61175641, -0.52817175],\n",
      "       [-1.07296862,  0.86540763, -2.3015387 ]]), 'W2': array([[ 1.74481176],\n",
      "       [-0.7612069 ],\n",
      "       [ 0.3190391 ]])}\n"
     ]
    }
   ],
   "source": [
    "np.random.seed(1) # Seed the random number generator\n",
    "nn = NeuralNet(activation_function=relu, der_activation_function=dRelu) # create the NN model"
   ]
  },
  {
   "cell_type": "code",
   "execution_count": 264,
   "id": "incorporated-alaska",
   "metadata": {},
   "outputs": [
    {
     "data": {
      "text/plain": [
       "array([1., 0., 0., 1., 1., 0., 1., 0., 1., 1., 1., 1., 0., 1., 0., 0., 1.,\n",
       "       0., 1., 1., 1., 0., 0., 1., 0., 1., 0., 1., 1., 1., 0., 1., 1., 0.,\n",
       "       1., 1.])"
      ]
     },
     "execution_count": 264,
     "metadata": {},
     "output_type": "execute_result"
    }
   ],
   "source": [
    "nn.predict(X_test).reshape(len(X_test))"
   ]
  },
  {
   "cell_type": "code",
   "execution_count": 265,
   "id": "premier-passenger",
   "metadata": {},
   "outputs": [
    {
     "name": "stderr",
     "output_type": "stream",
     "text": [
      "<ipython-input-261-86e6d34b8656>:2: RuntimeWarning: overflow encountered in exp\n",
      "  return 1 / (1 + np.exp(-data))\n",
      "<ipython-input-261-86e6d34b8656>:57: RuntimeWarning: divide by zero encountered in log\n",
      "  (y * np.log(yhat)) + ((y_inv) * np.log(yhat_inv))\n",
      "<ipython-input-261-86e6d34b8656>:57: RuntimeWarning: invalid value encountered in multiply\n",
      "  (y * np.log(yhat)) + ((y_inv) * np.log(yhat_inv))\n"
     ]
    },
    {
     "data": {
      "image/png": "[encoded data removed]",
      "text/plain": [
       "<Figure size 432x288 with 1 Axes>"
      ]
     },
     "metadata": {
      "needs_background": "light"
     },
     "output_type": "display_data"
    }
   ],
   "source": [
    "nn.fit(X_train, y_train) #train the model\n",
    "nn.plot_loss()"
   ]
  },
  {
   "cell_type": "code",
   "execution_count": 212,
   "id": "private-place",
   "metadata": {
    "scrolled": true
   },
   "outputs": [
    {
     "data": {
      "text/plain": [
       "array([[0.],\n",
       "       [1.],\n",
       "       [1.],\n",
       "       [0.],\n",
       "       [0.],\n",
       "       [0.],\n",
       "       [0.],\n",
       "       [1.],\n",
       "       [1.],\n",
       "       [0.],\n",
       "       [0.],\n",
       "       [0.],\n",
       "       [0.],\n",
       "       [0.],\n",
       "       [1.],\n",
       "       [1.],\n",
       "       [0.],\n",
       "       [1.],\n",
       "       [0.],\n",
       "       [0.],\n",
       "       [0.],\n",
       "       [1.],\n",
       "       [1.],\n",
       "       [0.],\n",
       "       [1.],\n",
       "       [0.],\n",
       "       [1.],\n",
       "       [0.],\n",
       "       [1.],\n",
       "       [0.],\n",
       "       [0.],\n",
       "       [0.],\n",
       "       [0.],\n",
       "       [1.],\n",
       "       [0.],\n",
       "       [0.]])"
      ]
     },
     "execution_count": 212,
     "metadata": {},
     "output_type": "execute_result"
    }
   ],
   "source": [
    "test_pred"
   ]
  },
  {
   "cell_type": "code",
   "execution_count": null,
   "id": "recreational-operation",
   "metadata": {},
   "outputs": [],
   "source": []
  }
 ],
 "metadata": {
  "kernelspec": {
   "display_name": "Python 3",
   "language": "python",
   "name": "python3"
  },
  "language_info": {
   "codemirror_mode": {
    "name": "ipython",
    "version": 3
   },
   "file_extension": ".py",
   "mimetype": "text/x-python",
   "name": "python",
   "nbconvert_exporter": "python",
   "pygments_lexer": "ipython3",
   "version": "3.9.5"
  }
 },
 "nbformat": 4,
 "nbformat_minor": 5
}
